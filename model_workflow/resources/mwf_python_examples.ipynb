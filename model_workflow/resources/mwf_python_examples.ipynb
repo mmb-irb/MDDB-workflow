{
 "cells": [
  {
   "cell_type": "code",
   "execution_count": 2,
   "id": "060cc271",
   "metadata": {},
   "outputs": [],
   "source": [
    "from model_workflow.mwf import Project"
   ]
  },
  {
   "cell_type": "code",
   "execution_count": 1,
   "id": "a6609a3f",
   "metadata": {},
   "outputs": [
    {
     "name": "stdout",
     "output_type": "stream",
     "text": [
      "\u001b[93m⚠  WARNING: \u001b[0mtest\n"
     ]
    }
   ],
   "source": [
    "%load_ext autoreload\n",
    "%autoreload 2\n",
    "from model_workflow.utils.auxiliar import warn\n",
    "warn('test')"
   ]
  },
  {
   "cell_type": "code",
   "execution_count": null,
   "id": "e0aaff2c",
   "metadata": {},
   "outputs": [
    {
     "name": "stdout",
     "output_type": "stream",
     "text": [
      "⚠  WARNING2: test\n"
     ]
    }
   ],
   "source": [
    "warn('test')"
   ]
  }
 ],
 "metadata": {
  "kernelspec": {
   "display_name": "mwf_env",
   "language": "python",
   "name": "python3"
  },
  "language_info": {
   "codemirror_mode": {
    "name": "ipython",
    "version": 3
   },
   "file_extension": ".py",
   "mimetype": "text/x-python",
   "name": "python",
   "nbconvert_exporter": "python",
   "pygments_lexer": "ipython3",
   "version": "3.9.21"
  }
 },
 "nbformat": 4,
 "nbformat_minor": 5
}
