{
 "cells": [
  {
   "cell_type": "code",
   "execution_count": 1,
   "id": "dfb2fcfd",
   "metadata": {},
   "outputs": [],
   "source": [
    "from typing import List\n",
    "from model_workflow.utils.structures import Structure"
   ]
  },
  {
   "cell_type": "code",
   "execution_count": 2,
   "id": "2b3331d4",
   "metadata": {},
   "outputs": [
    {
     "name": "stdout",
     "output_type": "stream",
     "text": [
      "<Structure (26272 atoms)>\n"
     ]
    }
   ],
   "source": [
    "structure_filename = 'structure.pdb'\n",
    "structure = Structure.from_pdb_file(structure_filename)\n",
    "print(structure)"
   ]
  },
  {
   "cell_type": "code",
   "execution_count": 3,
   "id": "914cbe71",
   "metadata": {},
   "outputs": [],
   "source": [
    "backbone_names = [\"P\", \"O2P\", \"O1P\", \"O5'\", \"C5'\", \"H5'1\", \"H5'2\", \"C4'\", \"H4'\",\n",
    "                  \"C3'\", \"H3'\", \"O3'\", \"C2'\", \"H2'1\", \"H2'2\", \"C1'\", \"H1'\", \"O4'\"]\n",
    "atom_names_per_nucleobase = {\n",
    "    # Adenin\n",
    "    \"DA\": [\"N9\",\"C8\",\"H8\",\"N7\",\"C6\",\"N6\",\"H61\",\"H62\",\"C5\",\"C4\",\"N3\",\"C2\",\"H2\",\"N1\"],\n",
    "    # Guanin\n",
    "    \"DG\": [\"N9\",\"C8\",\"H8\",\"N7\",\"C6\",\"O6\",\"C5\",\"C4\",\"N3\",\"C2\",\"N2\",\"H21\",\"H22\",\"N1\",\"H1\"]\n",
    "}\n",
    "\n",
    "def split_nucleotide (residue_index : int):\n",
    "    residue = structure.residues[residue_index]\n",
    "    nucleobase_names = atom_names_per_nucleobase[residue.name]\n",
    "    splitted_residues = residue.split_by_atom_names(backbone_names, nucleobase_names)\n",
    "\n"
   ]
  },
  {
   "cell_type": "code",
   "execution_count": 4,
   "id": "491d2a62",
   "metadata": {},
   "outputs": [],
   "source": [
    "# DANI: Hay que actualizarlos empezando por abajo, sino los índices se desplazan\n",
    "residues = [1475, 1474, 1473]\n",
    "\n",
    "for residue in residues:\n",
    "    split_nucleotide(residue)\n",
    "\n",
    "structure.generate_pdb_file('test.pdb')"
   ]
  }
 ],
 "metadata": {
  "kernelspec": {
   "display_name": "Python 3 (ipykernel)",
   "language": "python",
   "name": "python3"
  },
  "language_info": {
   "codemirror_mode": {
    "name": "ipython",
    "version": 3
   },
   "file_extension": ".py",
   "mimetype": "text/x-python",
   "name": "python",
   "nbconvert_exporter": "python",
   "pygments_lexer": "ipython3",
   "version": "3.7.12"
  }
 },
 "nbformat": 4,
 "nbformat_minor": 5
}
