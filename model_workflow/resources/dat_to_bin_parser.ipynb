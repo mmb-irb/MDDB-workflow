{
 "cells": [
  {
   "cell_type": "code",
   "execution_count": 1,
   "id": "52232c44",
   "metadata": {},
   "outputs": [],
   "source": [
    "from struct import pack\n",
    "\n",
    "data_filename = 'NAhbonds.dat'\n",
    "\n",
    "# Read the data file\n",
    "data = []\n",
    "with open(data_filename, 'r') as file:\n",
    "    # Skip the first line since it is only the headers\n",
    "    next(file)\n",
    "    for line in file:\n",
    "        # Skip the first line since it is only the row number\n",
    "        numbers = [ int(s) for s in line.strip().split()[1:] ]\n",
    "        data += numbers"
   ]
  },
  {
   "cell_type": "code",
   "execution_count": 9,
   "id": "6e7dd478",
   "metadata": {},
   "outputs": [
    {
     "name": "stdout",
     "output_type": "stream",
     "text": [
      "10000000\n",
      "{0, 1, 2, 3}\n",
      "[3, 3, 2, 2, 2, 2, 2, 3, 3, 3, 3, 3]\n"
     ]
    }
   ],
   "source": [
    "print(len(data))\n",
    "print(set(data))\n",
    "print(data[0:12])"
   ]
  },
  {
   "cell_type": "code",
   "execution_count": 10,
   "id": "80e6a84d",
   "metadata": {},
   "outputs": [],
   "source": [
    "# Data is a list of numeric values\n",
    "# Bit size is the number of bits for each value in data to be occupied\n",
    "def store_bits (data : list, bit_size : int, filepath : str):\n",
    "    # Check bit size to make sense\n",
    "    if bit_size <= 0:\n",
    "        raise ValueError('Bit size must a number greater than 0')\n",
    "    if bit_size % 8 == 0:\n",
    "        raise ValueError('Bit size is multiple of 8 so bytes must be used instead of bits')\n",
    "    # Start writting the output file\n",
    "    with open(filepath, 'wb') as file:\n",
    "        bit_count = 0\n",
    "        current_byte = ''\n",
    "        # Iterate over data list values\n",
    "        for value in data:\n",
    "            # Parse the value to binary and make sure the binary is as long as the bit size\n",
    "            bits = format(value, 'b').zfill(bit_size)\n",
    "            if len(bits) != bit_size:\n",
    "                raise ValueError('Value ' + str(value) + ' cannot be stored in ' + str(bit_size) + ' bits')\n",
    "            # Add bits one by one to the current byte to be written\n",
    "            for bit in bits:\n",
    "                current_byte += bit\n",
    "                bit_count += 1\n",
    "                # If the current byte is full then write it to the output file\n",
    "                if bit_count == 8:\n",
    "                    #print(current_byte + ' -> ' + str(int(current_byte, 2)))\n",
    "                    file.write(pack('!B', int(current_byte, 2)))\n",
    "                    current_byte = ''\n",
    "                    bit_count = 0\n",
    "        # If last byte is truncated then fill it with 0s and write it\n",
    "        if bit_count != 0:\n",
    "            last_byte = current_byte.ljust(8, '0')\n",
    "            file.write(pack('!B', int(last_byte, 2)))"
   ]
  },
  {
   "cell_type": "code",
   "execution_count": 11,
   "id": "53f2e3d5",
   "metadata": {},
   "outputs": [],
   "source": [
    "#all_data = [0,1,2,3,2,3,1,0,2,0]\n",
    "#all_data = sum(data, [])\n",
    "\n",
    "store_bits(data, 2, 'test.bin')"
   ]
  },
  {
   "cell_type": "code",
   "execution_count": 27,
   "id": "5edba036",
   "metadata": {},
   "outputs": [],
   "source": [
    "parsed_filename = 'parsed_NAhbonds.txt'\n",
    "parsed_data = []\n",
    "with open(parsed_filename, 'r', encoding='utf_8') as file:\n",
    "    content = file.read()\n",
    "    for c in content:\n",
    "        if c =='\\x00':\n",
    "            parsed_data.append(0)\n",
    "        else:\n",
    "            parsed_data.append(int(c))"
   ]
  },
  {
   "cell_type": "code",
   "execution_count": 28,
   "id": "33bf02fa",
   "metadata": {},
   "outputs": [
    {
     "name": "stdout",
     "output_type": "stream",
     "text": [
      "[3, 3, 2, 2, 2, 2, 2, 3, 3, 3]\n",
      "[3, 3, 2, 2, 2, 2, 1, 3, 3, 3]\n"
     ]
    }
   ],
   "source": [
    "print(data[0:10])\n",
    "print(parsed_data[0:10])"
   ]
  },
  {
   "cell_type": "code",
   "execution_count": 29,
   "id": "6fce5cb8",
   "metadata": {},
   "outputs": [
    {
     "name": "stdout",
     "output_type": "stream",
     "text": [
      "[3, 3, 2, 2, 2, 2, 2, 3, 3, 3]\n",
      "[3, 3, 2, 2, 2, 2, 2, 3, 3, 3]\n"
     ]
    }
   ],
   "source": [
    "print(data[20:30])\n",
    "print(parsed_data[10:20])"
   ]
  },
  {
   "cell_type": "code",
   "execution_count": 30,
   "id": "c56f73c9",
   "metadata": {},
   "outputs": [
    {
     "name": "stdout",
     "output_type": "stream",
     "text": [
      "10000000\n",
      "5000000\n"
     ]
    }
   ],
   "source": [
    "print(len(data))\n",
    "print(len(parsed_data))"
   ]
  },
  {
   "cell_type": "code",
   "execution_count": 32,
   "id": "c2a48c3d",
   "metadata": {},
   "outputs": [
    {
     "name": "stdout",
     "output_type": "stream",
     "text": [
      "[3, 3, 2, 2, 2, 2, 2, 3, 3, 3, 3, 3, 2, 3, 2, 2, 2, 3, 3, 3]\n",
      "[3, 3, 2, 2, 2, 2, 2, 3, 3, 3]\n"
     ]
    }
   ],
   "source": [
    "print(data[-20:])\n",
    "print(parsed_data[-10:])"
   ]
  },
  {
   "cell_type": "code",
   "execution_count": null,
   "id": "24ce7672",
   "metadata": {},
   "outputs": [],
   "source": []
  }
 ],
 "metadata": {
  "kernelspec": {
   "display_name": "Python 3 (ipykernel)",
   "language": "python",
   "name": "python3"
  },
  "language_info": {
   "codemirror_mode": {
    "name": "ipython",
    "version": 3
   },
   "file_extension": ".py",
   "mimetype": "text/x-python",
   "name": "python",
   "nbconvert_exporter": "python",
   "pygments_lexer": "ipython3",
   "version": "3.10.8"
  }
 },
 "nbformat": 4,
 "nbformat_minor": 5
}
