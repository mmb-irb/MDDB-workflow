{
 "cells": [
  {
   "cell_type": "markdown",
   "id": "increased-graphic",
   "metadata": {},
   "source": [
    "### Box viewer\n",
    "\n",
    "Represent a box in ngl by adding new atoms as vertex and painting distances between them\n",
    "\n",
    "First set inputs"
   ]
  },
  {
   "cell_type": "code",
   "execution_count": 1,
   "id": "peaceful-reservoir",
   "metadata": {},
   "outputs": [],
   "source": [
    "# Origin and size are both printed in CMIP output logs\n",
    "# They must be manually copied here\n",
    "origin = (31.700, 32.900, 9.650)\n",
    "size = (46.000, 40.000, 32.500)\n",
    "\n",
    "# Filename of the pdb to be represented\n",
    "input_filename = 'protein.cmip.pdb'"
   ]
  },
  {
   "cell_type": "markdown",
   "id": "angry-projection",
   "metadata": {},
   "source": [
    "Then show the box"
   ]
  },
  {
   "cell_type": "code",
   "execution_count": 3,
   "id": "packed-shelter",
   "metadata": {},
   "outputs": [
    {
     "data": {
      "application/vnd.jupyter.widget-view+json": {
       "model_id": "092e4f6045b349c18eaead0d25447a81",
       "version_major": 2,
       "version_minor": 0
      },
      "text/plain": [
       "NGLWidget()"
      ]
     },
     "metadata": {},
     "output_type": "display_data"
    }
   ],
   "source": [
    "import nglview as nv\n",
    "\n",
    "# Represent a box in ngl by adding new atoms as vertex and painting distances between them\n",
    "\n",
    "\n",
    "# Set inputs \n",
    "\n",
    "# Format the input numbers to fit the pdb columns\n",
    "def fr (n):\n",
    "    return str(round(n, 3)).rjust(8)\n",
    "\n",
    "# Create a new file and add the vertex atoms\n",
    "boxed_filename = 'boxed.pdb'\n",
    "!cp $input_filename $boxed_filename\n",
    "\n",
    "vertex = []\n",
    "vertex.append(fr(origin[0]) + fr(origin[1]) + fr(origin[2]))\n",
    "vertex.append(fr(origin[0] + size[0]) + fr(origin[1]) + fr(origin[2]))\n",
    "vertex.append(fr(origin[0]) + fr(origin[1] + size[1]) + fr(origin[2]))\n",
    "vertex.append(fr(origin[0]) + fr(origin[1]) + fr(origin[2] + size[2]))\n",
    "vertex.append(fr(origin[0] + size[0]) + fr(origin[1] + size[1]) + fr(origin[2]))\n",
    "vertex.append(fr(origin[0] + size[0]) + fr(origin[1]) + fr(origin[2] + size[2]))\n",
    "vertex.append(fr(origin[0]) + fr(origin[1] + size[1]) + fr(origin[2] + size[2]))\n",
    "vertex.append(fr(origin[0] + size[0]) + fr(origin[1] + size[1]) + fr(origin[2] + size[2]))\n",
    "\n",
    "# Write all lines but the last line: 'END'\n",
    "with open(boxed_filename, \"r\") as file:\n",
    "    file_lines = file.readlines()\n",
    "with open(boxed_filename, \"w\") as file:\n",
    "    for l in file_lines[:-1]:\n",
    "        file.write(l)\n",
    "    for i, v in enumerate(vertex):\n",
    "        file.write('HETATM10000 ZN'+str(i)+'   ZN Z9999    '+v+'  1.00 50.00          ZN\\n')\n",
    "    file.write('END')\n",
    "   \n",
    "# Represent the new file in ngl\n",
    "view = nv.show_structure_file(boxed_filename, default=False)\n",
    "\n",
    "# Set box atom vertex\n",
    "atomPair = [\n",
    "     [ \"9999:Z.ZN0\", \"9999:Z.ZN1\" ],\n",
    "     [ \"9999:Z.ZN0\", \"9999:Z.ZN2\" ],\n",
    "     [ \"9999:Z.ZN0\", \"9999:Z.ZN3\" ],\n",
    "   \n",
    "     [ \"9999:Z.ZN1\", \"9999:Z.ZN4\" ],\n",
    "     [ \"9999:Z.ZN1\", \"9999:Z.ZN5\" ],\n",
    "   \n",
    "     [ \"9999:Z.ZN2\", \"9999:Z.ZN4\" ],\n",
    "     [ \"9999:Z.ZN2\", \"9999:Z.ZN6\" ],\n",
    "   \n",
    "     [ \"9999:Z.ZN3\", \"9999:Z.ZN5\" ],\n",
    "     [ \"9999:Z.ZN3\", \"9999:Z.ZN6\" ],\n",
    "   \n",
    "     [ \"9999:Z.ZN4\", \"9999:Z.ZN7\" ],\n",
    "     [ \"9999:Z.ZN5\", \"9999:Z.ZN7\" ],\n",
    "     [ \"9999:Z.ZN6\", \"9999:Z.ZN7\" ]\n",
    "]\n",
    "\n",
    "# Structure\n",
    "view.add_representation(repr_type='cartoon',\n",
    "                         selection='not het',\n",
    "                         color='#cccccc',\n",
    "                        opacity=.2)\n",
    "\n",
    "# ligands box\n",
    "view.add_representation(repr_type='ball+stick',\n",
    "                         selection='9999',\n",
    "                        aspectRatio = 10)\n",
    "# lines box\n",
    "view.add_representation(repr_type='distance',\n",
    "                         atomPair= atomPair,\n",
    "                        labelColor= 'transparent',\n",
    "                        color= 'black')\n",
    "\n",
    "view.center()\n",
    "view._remote_call('setSize', target='Widget', args=['','600px'])\n",
    "view"
   ]
  },
  {
   "cell_type": "code",
   "execution_count": null,
   "id": "connected-budget",
   "metadata": {},
   "outputs": [],
   "source": []
  }
 ],
 "metadata": {
  "kernelspec": {
   "display_name": "Python 3 (ipykernel)",
   "language": "python",
   "name": "python3"
  },
  "language_info": {
   "codemirror_mode": {
    "name": "ipython",
    "version": 3
   },
   "file_extension": ".py",
   "mimetype": "text/x-python",
   "name": "python",
   "nbconvert_exporter": "python",
   "pygments_lexer": "ipython3",
   "version": "3.9.18"
  }
 },
 "nbformat": 4,
 "nbformat_minor": 5
}
