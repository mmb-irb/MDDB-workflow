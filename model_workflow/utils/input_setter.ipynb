{
 "cells": [
  {
   "cell_type": "markdown",
   "metadata": {},
   "source": [
    "# Inputs setter\n",
    "\n",
    "This notebook is a tool to manually set the workflow inputs with descriptions and examples. Values set here are then exported to a json file which is mandatory to run the MoDEL analyses workflow.\n",
    "\n",
    "Inputs:\n",
    "1. [Project metadata](#project)\n",
    "2. [Simulation metadata](#simulation)\n",
    "3. [Analysis parameters](#analysis)\n",
    "4. [Representation parameters](#representation)\n",
    "6. [Collections](#collections)"
   ]
  },
  {
   "cell_type": "code",
   "execution_count": 1,
   "metadata": {},
   "outputs": [],
   "source": [
    "inputs = {}"
   ]
  },
  {
   "cell_type": "markdown",
   "metadata": {},
   "source": [
    "## Project metadata <a name=\"project\"></a>\n",
    "\n",
    "The following metadata has no effect on the workflow itself, but it will be written to the output metadata file. These values will be uploaded to the database and then exposed in the project overview. They may be also useful to search this simulation in the browser."
   ]
  },
  {
   "cell_type": "markdown",
   "metadata": {},
   "source": [
    "Write a breif description or title for this trajectory for the overview page<br />\n",
    "This name may be used by the client to search the trajectory in the database<br />\n",
    "The name is displayed in the overview page"
   ]
  },
  {
   "cell_type": "code",
   "execution_count": 2,
   "metadata": {},
   "outputs": [],
   "source": [
    "inputs['name'] = \"Folding@home molecular dynamics simulations of Diamond Light Source / XChem X-ray structures of small molecule inhibitors of the SARS-CoV-2 main protease from the COVID Moonshot\""
   ]
  },
  {
   "cell_type": "markdown",
   "metadata": {},
   "source": [
    "Write additional comments<br />\n",
    "The description is displayed in the overview page"
   ]
  },
  {
   "cell_type": "code",
   "execution_count": 3,
   "metadata": {},
   "outputs": [],
   "source": [
    "inputs['description'] = \"This dataset contains all-atom molecular dynamics simulations starting from Diamond Light Source / XChem X-ray structures of small molecule inhibitors of the SARS-CoV-2 main viral protease (Mpro, 3CLpro) from the COVID Moonshot simulated on Folding@home with gromacs. All X-ray structures come from the XChem Fragalysis platform as of 2020-12-21. These structures are linked to activity data on the COVID Moonshot Structures browser.\""
   ]
  },
  {
   "cell_type": "markdown",
   "metadata": {},
   "source": [
    "Write author names<br />\n",
    "Authors are displayed in the overview page"
   ]
  },
  {
   "cell_type": "code",
   "execution_count": 4,
   "metadata": {},
   "outputs": [],
   "source": [
    "inputs['authors'] = \"John D. Chodera\""
   ]
  },
  {
   "cell_type": "markdown",
   "metadata": {},
   "source": [
    "Write author group name/s<br />\n",
    "The group is displayed in the overview page"
   ]
  },
  {
   "cell_type": "code",
   "execution_count": 5,
   "metadata": {},
   "outputs": [],
   "source": [
    "inputs['groups'] = \"Chodera lab\""
   ]
  },
  {
   "cell_type": "markdown",
   "metadata": {},
   "source": [
    "How to contact the authors. The contact is displayed in the overview page"
   ]
  },
  {
   "cell_type": "code",
   "execution_count": 6,
   "metadata": {},
   "outputs": [],
   "source": [
    "inputs['contact'] = None"
   ]
  },
  {
   "cell_type": "markdown",
   "metadata": {},
   "source": [
    "Program (software) name which carried the trajectory and its version<br />\n",
    "Program and version are both displayed in the overview page<br/>\n",
    "<span style=\"color:red\">WARNING: Check the database search page in order to see current values</span>"
   ]
  },
  {
   "cell_type": "code",
   "execution_count": 7,
   "metadata": {},
   "outputs": [],
   "source": [
    "inputs['program'] = 'OpenMM'\n",
    "inputs['version'] = '7.4.2'"
   ]
  },
  {
   "cell_type": "markdown",
   "metadata": {},
   "source": [
    "Type of molecular dynamics.<br/>\n",
    "At this moment there are only two options in this field: 'trajectory' and 'ensemble'.<br/>\n",
    "Note that this field has an effect on the client. Some time-dependent analysis will change the labels of their axes in order to make sense. e.g. RMSD X axis will be 'frames' instead of 'time'."
   ]
  },
  {
   "cell_type": "code",
   "execution_count": 8,
   "metadata": {},
   "outputs": [],
   "source": [
    "inputs['type'] = 'trajectory'"
   ]
  },
  {
   "cell_type": "markdown",
   "metadata": {},
   "source": [
    "MD method\n",
    "e.g. 'Classical MD', 'Targeted MD', 'Biased MD (Accelerated Weighted Ensemble)', Enhanced sampling (Hamiltonian Replica Exchange) ...\n",
    "MD method is displayed in the overview"
   ]
  },
  {
   "cell_type": "code",
   "execution_count": 9,
   "metadata": {},
   "outputs": [],
   "source": [
    "inputs['method'] = 'Classical MD'"
   ]
  },
  {
   "cell_type": "markdown",
   "metadata": {},
   "source": [
    "License and link to the license web page<br />\n",
    "The license is displayed in the overview page. Under the license there is a 'More information' button. The link is used to redirect the user when the button is clicked.\n",
    "\n",
    "#### Example:\n",
    "\n",
    "```json\n",
    "inputs['license'] = (\"This trajectory dataset is released under a Creative Commons \"\n",
    "           \"Attribution 4.0 International Public License\")\n",
    "inputs['linkcense'] = \"https://creativecommons.org/licenses/by/4.0/\"\n",
    "```"
   ]
  },
  {
   "cell_type": "code",
   "execution_count": 10,
   "metadata": {},
   "outputs": [],
   "source": [
    "inputs['license'] = (\"This trajectory dataset is released under a Creative Commons \"\n",
    "           \"Attribution 4.0 International Public License\")\n",
    "inputs['linkcense'] = \"https://creativecommons.org/licenses/by/4.0/\""
   ]
  },
  {
   "cell_type": "markdown",
   "metadata": {},
   "source": [
    "Citation for refering this simulation. The citation is displayed in the overview page<br />\n",
    "To set a citation use the following instructions:\n",
    "To add a line break type '(br)' inside the citation string\n",
    "To add superior text type '^' before each character"
   ]
  },
  {
   "cell_type": "code",
   "execution_count": 11,
   "metadata": {},
   "outputs": [],
   "source": [
    "inputs['citation'] = None"
   ]
  },
  {
   "cell_type": "markdown",
   "metadata": {},
   "source": [
    "Acknowledgements to be shown in the overview page"
   ]
  },
  {
   "cell_type": "code",
   "execution_count": 12,
   "metadata": {},
   "outputs": [],
   "source": [
    "inputs['thanks'] = \"We are thankful to the Folding@home community for their generous donations that made this simulation dataset possible. SS is a Damon Runyon Quantitative Biology Fellow funded by the Damon Runyon Cancer Research Foundation\""
   ]
  },
  {
   "cell_type": "markdown",
   "metadata": {},
   "source": [
    "Links to somewhere related to the simulation\n",
    "\n",
    "\n",
    "WARNING: This field has no effect anywhere in our work stream BUT others may rely on it. MolSSI uses this field to find simulations in our database and then to place the embed viewer in their website. You must fit to the standard when adding a new MolSSI simulation.\n",
    "\n",
    "#### Example:\n",
    "\n",
    "```json\n",
    "[\n",
    "    {\n",
    "        'name': 'Data source',\n",
    "        'url': 'https://data.source.org/'\n",
    "    },\n",
    "    {...}\n",
    "]\n",
    "```"
   ]
  },
  {
   "cell_type": "code",
   "execution_count": 13,
   "metadata": {},
   "outputs": [],
   "source": [
    "inputs['links'] = [\n",
    "    {\n",
    "        'name': 'Data source',\n",
    "        'url': 'https://covid.molssi.org//simulations/#foldinghome-molecular-dynamics-simulations-of-diamond-light-source--xchem-x-ray-structures-of-small-molecule-inhibitors-of-the-sars-cov-2-main-protease-from-the-covid-moonshot'\n",
    "    },\n",
    "]"
   ]
  },
  {
   "cell_type": "markdown",
   "metadata": {},
   "source": [
    "Set the source pdb ids of the trajectory structure<br />\n",
    "Additional data from the pdb is harvested by the loader while uploading to the database<br />\n",
    "This data is displayed in the overview page\n",
    "\n",
    "#### Example:\n",
    "\n",
    "```python\n",
    "['2AJF', '6M17']\n",
    "```"
   ]
  },
  {
   "cell_type": "code",
   "execution_count": 14,
   "metadata": {},
   "outputs": [],
   "source": [
    "inputs['pdbIds'] = []"
   ]
  },
  {
   "cell_type": "markdown",
   "metadata": {},
   "source": [
    "## Simulation metadata <a name=\"simulation\"></a>\n",
    "\n",
    "These inputs may be automatically mined from the topology and trajectory files<br />\n",
    "However they also may be forced here<br />\n",
    "<span style=\"color:red\">DANI: Todo mentira. El minado de metadata para estos valores no funciona casi nunca</span><br />\n",
    "<span style=\"color:red\">DANI: Dejé de mantenerlo hace tiempo y hay que poner todos los valores a mano</span>"
   ]
  },
  {
   "cell_type": "markdown",
   "metadata": {},
   "source": [
    "Time length in nanoseconds (ns). May be None if this is not a trajectory, but an ensemble.\n",
    "Length is an important value since it is used in many graph axes in the web client."
   ]
  },
  {
   "cell_type": "code",
   "execution_count": 15,
   "metadata": {},
   "outputs": [],
   "source": [
    "inputs['length'] = None # In nanoseconds (ns)"
   ]
  },
  {
   "cell_type": "markdown",
   "metadata": {},
   "source": [
    "The rest of values are displayed in the web client as trajectory metadata<br />\n",
    "These values do not affect other outcomes<br/>\n",
    "<span style=\"color:red\">WARNING: Check the database search page in order to see current values</span><br/>\n",
    "<span style=\"color:red\">WARNING: Specially check already existing force fields and how they are named</span>"
   ]
  },
  {
   "cell_type": "code",
   "execution_count": 16,
   "metadata": {},
   "outputs": [],
   "source": [
    "inputs['temp'] = 300 # In Kelvin (K)\n",
    "inputs['ensemble'] = 'NPT' # e.g. NVT, NPT, etc.\n",
    "inputs['timestep'] = None # In fs (fs/step)\n",
    "inputs['ff'] = ['Amber ff14SB', 'OpenFF 1.3.0'] # Force fields (e.g. ['CHARMM36'])\n",
    "inputs['wat'] = 'TIP3P' # Water force field (e.g. TIP3P)\n",
    "inputs['boxtype'] = None # e.g. Triclinic, Cubic, Dodecahedron"
   ]
  },
  {
   "cell_type": "markdown",
   "metadata": {},
   "source": [
    "## Analysis parameters <a name=\"analysis\"></a>\n",
    "\n",
    "These fields have an impact in the analysis workflow."
   ]
  },
  {
   "cell_type": "markdown",
   "metadata": {},
   "source": [
    "### Interactions <a name=\"interactions\"></a>\n",
    "\n",
    "Set which are the interesting interactions to be analyzed<br />\n",
    "A bunch of interaction-specific analyses will be run for each interaction and displayed in the web client\n",
    "\n",
    "Interactions are defined by the 'agents' which are meant to interact pairwise. An 'agent' may be anything, even a group of unrelated molecules. The only condition is that agents must be defined by residues. The workflow will find out which residues of each agent are close enought to be considered as interface residues. These residues will be the ones considered in interface analyses<br />\n",
    "\n",
    "Interactions are uploaded to the database as part of the project metadata. They include the interaction name, agents name, residues selection of both whole agents and the residue selections of both agent interfaces<br />\n",
    "\n",
    "Each interaction has the following attributes:\n",
    "   - name: a string tag used to relate interaction analyses data with their corresponding residues.\n",
    "    In addition, the name is used to label the corresponding analyses in the web client\n",
    "   - agent_1: the name of the first agent in the interaction, which is used to label in the client\n",
    "   - selection_1: the VMD selection of the first agent in the interaction\n",
    "   - agent_2: the name of the second agent in the interaction, which is used to label in the client\n",
    "   - selection_2: the VMD selection of the second agent in the interaction\n",
    "    \n",
    "VMD atom selection language:\n",
    "https://www.ks.uiuc.edu/Research/vmd/vmd-1.3/ug/node132.html\n",
    "    \n",
    "#### Example:\n",
    "\n",
    "```python\n",
    "{\n",
    "    'name': 'protein-ligand interaction',\n",
    "    'agent_1': 'protein',\n",
    "    'selection_1': 'not resname lig',\n",
    "    'agent_2': 'ligand',\n",
    "    'selection_2': 'resname lig',\n",
    "},\n",
    "{\n",
    "    'name': 'domain-domain interaction',\n",
    "    'agent_1': 'domain 1',\n",
    "    'selection_1': 'resid 2 to 291',\n",
    "    'agent_2': 'domain 2',\n",
    "    'selection_2': 'resid 2 to 291',\n",
    "},\n",
    "```"
   ]
  },
  {
   "cell_type": "code",
   "execution_count": 17,
   "metadata": {},
   "outputs": [],
   "source": [
    "inputs['interactions'] = [\n",
    "    {\n",
    "        'name': 'Protease-ligand interaction',\n",
    "        'agent_1': 'Protease',\n",
    "        'selection_1': 'chain A',\n",
    "        'agent_2': 'Ligand',\n",
    "        'selection_2': 'chain B',\n",
    "    },\n",
    "]"
   ]
  },
  {
   "cell_type": "markdown",
   "metadata": {},
   "source": [
    "### Periodic boundary conditions selection <a name=\"pbcs\"></a>\n",
    "\n",
    "[EXPERIMENTAL INPUT]\n",
    "\n",
    "Set those residues which are under periodic boundary conditions (PBC)<br/>\n",
    "These residues are excluded from the imaging centering and fitting<br/>\n",
    "These residues are excluded in the follwoing analyses:\n",
    "   - RMSD: Sudden jumps in PBC residues result in non-sense high peaks\n",
    "   - RMSD per residue: Sudden jumps in PBC residues result in non-sense high peaks\n",
    "   - RMSD pairwise: Sudden jumps in PBC residues result in non-sense high peaks\n",
    "   - TM score: Sudden jumps in PBC residues result in non-sense high peaks\n",
    "   - RGYR: Sudden jumps in PBC residues result in non-sense high changes\n",
    "   - RMSF: Sudden jumps in PBC residues result in non-sense high peaks\n",
    "   - PCA: Sudden jumps make not sense in PCA and they eclipse non-PBC movements\n",
    "   - SASA: Residues close to the boundary will be considered exposed to solvent while they may be not\n",
    "   - Pockets: Residues close to the boundary may be considered to have pockets while they have not <span style=\"color:red\">(DANI: Esto en realidad no se puede hacer porque fpocket no permite \"descartar\" átomos de manera inteligente. Si quitas átomos para que no encuentre pockets en ellos entonces pueden aparecer pockets en los sitios que están ocupados por estos átomos. De momento descartamos el análisis entero cuando hay algo en PBC y listo)<span />\n",
    "\n",
    "Note that this input is used mostly for membranes since the most tipical residues under periodic boundary conditions (solvent and counter ions) are usually removed from the trajectory. They are to be included in this field as well when they are not removed. This field is also useful for those scenarions with several protein or nucleic acid molecules floating around and crossing boundaries. In this situation you can not image and fit all molecules. You must focus in one molecule and let the others stay in PBC.\n",
    "\n",
    "These residues are defined using VMD selection lenguage.<br/>\n",
    "\n",
    "\n",
    "VMD atom selection language:\n",
    "https://www.ks.uiuc.edu/Research/vmd/vmd-1.3/ug/node132.html"
   ]
  },
  {
   "cell_type": "code",
   "execution_count": 18,
   "metadata": {},
   "outputs": [],
   "source": [
    "inputs['pbc_selection'] = None"
   ]
  },
  {
   "cell_type": "markdown",
   "metadata": {},
   "source": [
    "## Representation parameters  <a name=\"representation\"></a>\n",
    "\n",
    "These fields have an impact in the display of the simulation once in the web client."
   ]
  },
  {
   "cell_type": "markdown",
   "metadata": {},
   "source": [
    "### Forced references\n",
    "\n",
    "Set which reference sequences must be used in order to map residues in the structure of the simulation. EMBL/UniProt accession ids are accepted. If forced references are not provided (which is totally acceptable) or the provided forced references do not fully cover the structure then a blast will be run for each orphan chain sequence.\n",
    "In addition, accessions may be guessed from the PDB ids, when provided.\n",
    "Note that forced references may be provided as a list (then it is guessed where each reference belongs to) os as a dictionary (then the user specifies which reference belongs to each chain).\n",
    "Use the \"noref\" flag to mark a chain as \"no referable\" (e.g. antibodies, synthetic constructs).\n",
    "\n",
    "#### Example:\n",
    "\n",
    "```python\n",
    "[ \"Q9BYF1\", \"P0DTC2\" ]\n",
    "{ \"A\": \"Q9BYF1\", \"B\": \"P0DTC2\" }\n",
    "{ \"A\": \"Q9BYF1\", \"B\": \"noref\" }\n",
    "```"
   ]
  },
  {
   "cell_type": "code",
   "execution_count": 19,
   "metadata": {},
   "outputs": [],
   "source": [
    "inputs['forced_references'] = [\"P0DTD1\"]"
   ]
  },
  {
   "cell_type": "markdown",
   "metadata": {},
   "source": [
    "### Chainnames <a name=\"chainnames\"></a>\n",
    "\n",
    "Set the chain names<br />\n",
    "This names are used to label chains in the web client\n",
    "\n",
    "#### Example:\n",
    "\n",
    "```python\n",
    "{\n",
    "    'A':'Protein',\n",
    "    'B':'Protein',\n",
    "    'G':'Glycans'\n",
    "}\n",
    "```"
   ]
  },
  {
   "cell_type": "code",
   "execution_count": 20,
   "metadata": {},
   "outputs": [],
   "source": [
    "inputs['chainnames'] = {'A': 'Protease', 'B': 'Ligand'}"
   ]
  },
  {
   "cell_type": "markdown",
   "metadata": {},
   "source": [
    "### Ligands <a name=\"ligands\"></a>\n",
    "\n",
    "Set all ligands in the simulation. Each ligand has the following attributes:\n",
    "    - name: this is used as the ligand NGL representation label\n",
    "    - ngl: NGL selection used to represent the ligand on the NGL viewer in the client\n",
    "    - drugbank (Optional): the drugbank accession which is used in the overview to make a link\n",
    "    - chembl (Optional): the chembl accession which is used in the overview to make a link\n",
    "    \n",
    "At this moment, ligands are used nowhere in the workflow\n",
    "    \n",
    "NGL viewer selection:\n",
    "http://nglviewer.org/ngl/api/manual/usage/selection-language.html\n",
    "\n",
    "<span style=\"color:green\">LORE: This field is the predecessor of the 'interactions' field. Now it is deprecated but we are still maintaining it since one day this information may be useful, we already have it in the database and the web client is still relying on it to better represent small ligands.\n",
    "    \n",
    "#### Example:\n",
    "\n",
    "```python\n",
    "{\n",
    "    'name': 'Some compount',\n",
    "    'ngl': ':L',\n",
    "    'drugbank': 'DB00945',\n",
    "    'chembl': 'CHEMBL25'\n",
    "},\n",
    "{\n",
    "    'name': 'Some nucleic acid',\n",
    "    'ngl': ':A or :B'\n",
    "}\n",
    "```\n"
   ]
  },
  {
   "cell_type": "code",
   "execution_count": 21,
   "metadata": {},
   "outputs": [],
   "source": [
    "inputs['ligands'] = [\n",
    "    {\n",
    "        'name': 'Ligand',\n",
    "        'ngl': ':B'\n",
    "    }\n",
    "]"
   ]
  },
  {
   "cell_type": "markdown",
   "metadata": {},
   "source": [
    "### Membranes <a name=\"membranes\"></a>\n",
    "\n",
    "Set those elements which must be considered membrane<br/>\n",
    "These elements will be representated in the web client with a specific pattern:\n",
    "- Licorice\n",
    "- Purple color\n",
    "- Low opacity\n",
    "\n",
    "\n",
    "To define a membrane it is required a name and a selection in VMD selection lenguage\n",
    "\n",
    "\n",
    "VMD atom selection language:\n",
    "https://www.ks.uiuc.edu/Research/vmd/vmd-1.3/ug/node132.html\n",
    "\n",
    "<span style=\"color:green\">LORE: This field is the predecessor of the 'pbc_selection' field. Now it is deprecated but we are still maintaining it since one day this information may be useful and we already have it in the database.\n",
    "\n",
    "<span style=\"color:red\">DANI: Aunque este campo ya no debería tener efecto en el workflow sigue teniendo uno: el análisis de pockets no se corre si hay membranas<br/>\n",
    "<span style=\"color:red\">DANI: Esto no está implementado relamente, pero va bien tener estos valores en la db para el día que nos pongamos a ello<br/>\n",
    "\n",
    "#### Example:\n",
    "\n",
    "```python\n",
    "{\n",
    "    'name': 'Cell membrane',\n",
    "    'selection': 'chain M',\n",
    "}\n",
    "```"
   ]
  },
  {
   "cell_type": "code",
   "execution_count": 22,
   "metadata": {},
   "outputs": [],
   "source": [
    "inputs['membranes'] = []"
   ]
  },
  {
   "cell_type": "markdown",
   "metadata": {},
   "source": [
    "### Custom representations\n",
    "\n",
    "The web client sets some default representations (ngl configurations) to highlight important features in the structure according to the topology reference or interactions. \n",
    "\n",
    "In addition, you may set extra customized representations which are interesting and thus must have an independent highlight system. This has no effect in the workflow, but it is very visual in the client.<br />\n",
    "<span style=\"color:red\">WARNING: Make sure whatever you want to highlight is not already highlighted by default or it would be duplicated</span>\n",
    "\n",
    "#### Example:\n",
    "\n",
    "```python\n",
    "[\n",
    "    {\n",
    "        \"name\" : \"Remdesivir\",\n",
    "        \"representations\" : [\n",
    "            {\n",
    "                \"name\" : \"Remdesivir\",\n",
    "                \"selection\" : \"REM\",\n",
    "                \"type\" : \"licorice\"\n",
    "            }\n",
    "        ]\n",
    "    }\n",
    "]\n",
    "```"
   ]
  },
  {
   "cell_type": "code",
   "execution_count": 23,
   "metadata": {},
   "outputs": [],
   "source": [
    "inputs['customs'] = []"
   ]
  },
  {
   "cell_type": "markdown",
   "metadata": {},
   "source": [
    "### Curated orientation\n",
    "\n",
    "Set a specific starting orientation for the web client viewer.\n",
    "Normally this is done once the simulation has been uploaded since there is no easy way to get the orientation before.\n",
    "\n",
    "#### Example:\n",
    "\n",
    "```python\n",
    "[\n",
    "    72.05997406618104,\n",
    "    21.871748915422142,\n",
    "    47.89720038949639,\n",
    "    0,\n",
    "    34.3234627961572,\n",
    "    42.053333152877315,\n",
    "    -70.84188126104011,\n",
    "    0,\n",
    "    -39.93012781662099,\n",
    "    75.61943426331311,\n",
    "    25.542927052994127,\n",
    "    0,\n",
    "    -63.015499114990234,\n",
    "    -33.07249975204468,\n",
    "    -39.439000606536865,\n",
    "    1\n",
    "]\n",
    "```"
   ]
  },
  {
   "cell_type": "code",
   "execution_count": 24,
   "metadata": {},
   "outputs": [],
   "source": [
    "inputs['orientation'] = None"
   ]
  },
  {
   "cell_type": "markdown",
   "metadata": {},
   "source": [
    "# Collections  <a name=\"collections\"></a>\n",
    "\n",
    "Set to which collection does this simulation belong to.<br />\n",
    "Set also additional collection_related metadata values.<br />\n",
    "\n",
    "Currently supported collections:\n",
    "   - cv19\n",
    "   - mcns"
   ]
  },
  {
   "cell_type": "code",
   "execution_count": 25,
   "metadata": {},
   "outputs": [],
   "source": [
    "inputs['collections'] = ['cv19']"
   ]
  },
  {
   "cell_type": "markdown",
   "metadata": {},
   "source": [
    "### BioExcel-CV19 specific metadata fields"
   ]
  },
  {
   "cell_type": "markdown",
   "metadata": {},
   "source": [
    "Set which family does this trajectory belong to.\n",
    "\n",
    "Supported units:\n",
    "- RBD-ACE2\n",
    "- RBD\n",
    "- ACE2\n",
    "- Spike\n",
    "- 3CLpro\n",
    "- PLpro\n",
    "- Polymerase\n",
    "- E protein\n",
    "- Exoribonuclease\n",
    "- Other"
   ]
  },
  {
   "cell_type": "code",
   "execution_count": 26,
   "metadata": {},
   "outputs": [],
   "source": [
    "if 'cv19' in inputs['collections']:\n",
    "    inputs['cv19_unit'] = '3CLpro'"
   ]
  },
  {
   "cell_type": "markdown",
   "metadata": {},
   "source": [
    "## Export\n",
    "\n",
    "Finally export everything to json format"
   ]
  },
  {
   "cell_type": "code",
   "execution_count": 27,
   "metadata": {},
   "outputs": [],
   "source": [
    "import json\n",
    "\n",
    "# Export it to json\n",
    "inputs_filename = 'inputs.json'\n",
    "with open(inputs_filename, 'w') as file:\n",
    "    json.dump(inputs, file, indent=4)"
   ]
  },
  {
   "cell_type": "code",
   "execution_count": null,
   "metadata": {},
   "outputs": [],
   "source": []
  }
 ],
 "metadata": {
  "kernelspec": {
   "display_name": "Python 3 (ipykernel)",
   "language": "python",
   "name": "python3"
  },
  "language_info": {
   "codemirror_mode": {
    "name": "ipython",
    "version": 3
   },
   "file_extension": ".py",
   "mimetype": "text/x-python",
   "name": "python",
   "nbconvert_exporter": "python",
   "pygments_lexer": "ipython3",
   "version": "3.10.8"
  }
 },
 "nbformat": 4,
 "nbformat_minor": 4
}
