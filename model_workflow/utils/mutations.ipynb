{
 "cells": [
  {
   "cell_type": "markdown",
   "metadata": {},
   "source": [
    "This script mines data from a Nextstrain exported dataset<br />\n",
    "This dataset contains the entropies of all residues in all Sars-Cov-2 genes<br />\n",
    "We are particullary interested in the spike residues<br />\n",
    "\n",
    "To obtain the dataset this steps were performed (14/04/2021):\n",
    "1. Go to the [Nextstrain web page](https://nextstrain.org/ncov/global?c=gt-S_570)\n",
    "2. In the very bottom of the web page click on 'download data'\n",
    "3. Download the 'genetic diversity data (tsv)' dataset\n",
    "    \n",
    "The reference genome for this data is here https://www.ncbi.nlm.nih.gov/nuccore/MN908947<br />\n",
    "The sequence of the spike protein residues was manually copied"
   ]
  },
  {
   "cell_type": "code",
   "execution_count": 10,
   "metadata": {},
   "outputs": [
    {
     "name": "stdout",
     "output_type": "stream",
     "text": [
      "1273\n"
     ]
    }
   ],
   "source": [
    "sequence = ('MFVFLVLLPLVSSQCVNLTTRTQLPPAYTNSFTRGVYYPDKVFR'\n",
    "            'SSVLHSTQDLFLPFFSNVTWFHAIHVSGTNGTKRFDNPVLPFNDGVYFASTEKSNIIR'\n",
    "            'GWIFGTTLDSKTQSLLIVNNATNVVIKVCEFQFCNDPFLGVYYHKNNKSWMESEFRVY'\n",
    "            'SSANNCTFEYVSQPFLMDLEGKQGNFKNLREFVFKNIDGYFKIYSKHTPINLVRDLPQ'\n",
    "            'GFSALEPLVDLPIGINITRFQTLLALHRSYLTPGDSSSGWTAGAAAYYVGYLQPRTFL'\n",
    "            'LKYNENGTITDAVDCALDPLSETKCTLKSFTVEKGIYQTSNFRVQPTESIVRFPNITN'\n",
    "            'LCPFGEVFNATRFASVYAWNRKRISNCVADYSVLYNSASFSTFKCYGVSPTKLNDLCF'\n",
    "            'TNVYADSFVIRGDEVRQIAPGQTGKIADYNYKLPDDFTGCVIAWNSNNLDSKVGGNYN'\n",
    "            'YLYRLFRKSNLKPFERDISTEIYQAGSTPCNGVEGFNCYFPLQSYGFQPTNGVGYQPY'\n",
    "            'RVVVLSFELLHAPATVCGPKKSTNLVKNKCVNFNFNGLTGTGVLTESNKKFLPFQQFG'\n",
    "            'RDIADTTDAVRDPQTLEILDITPCSFGGVSVITPGTNTSNQVAVLYQDVNCTEVPVAI'\n",
    "            'HADQLTPTWRVYSTGSNVFQTRAGCLIGAEHVNNSYECDIPIGAGICASYQTQTNSPR'\n",
    "            'RARSVASQSIIAYTMSLGAENSVAYSNNSIAIPTNFTISVTTEILPVSMTKTSVDCTM'\n",
    "            'YICGDSTECSNLLLQYGSFCTQLNRALTGIAVEQDKNTQEVFAQVKQIYKTPPIKDFG'\n",
    "            'GFNFSQILPDPSKPSKRSFIEDLLFNKVTLADAGFIKQYGDCLGDIAARDLICAQKFN'\n",
    "            'GLTVLPPLLTDEMIAQYTSALLAGTITSGWTFGAGAALQIPFAMQMAYRFNGIGVTQN'\n",
    "            'VLYENQKLIANQFNSAIGKIQDSLSSTASALGKLQDVVNQNAQALNTLVKQLSSNFGA'\n",
    "            'ISSVLNDILSRLDKVEAEVQIDRLITGRLQSLQTYVTQQLIRAAEIRASANLAATKMS'\n",
    "            'ECVLGQSKRVDFCGKGYHLMSFPQSAPHGVVFLHVTYVPAQEKNFTTAPAICHDGKAH'\n",
    "            'FPREGVFVSNGTHWFVTQRNFYEPQIITTDNTFVSGNCDVVIGIVNNTVYDPLQPELD'\n",
    "            'SFKEELDKYFKNHTSPDVDLGDISGINASVVNIQKEIDRLNEVAKNLNESLIDLQELG'\n",
    "            'KYEQYIKWPWYIWLGFIAGLIAIVMVTIMLCCMTSCCSCLKGCCSCGSCCKFDEDDSE'\n",
    "            'PVLKGVKLHYT')\n",
    "\n",
    "print(len(sequence))"
   ]
  },
  {
   "cell_type": "code",
   "execution_count": 12,
   "metadata": {},
   "outputs": [
    {
     "name": "stdout",
     "output_type": "stream",
     "text": [
      "/home/dbeltran_local/downloads\n",
      "1273\n",
      "[0.002, 0.005, 0.011, 0, 0.1, 0.026, 0, 0.006, 0.01, 0, 0, 0.043, 0.079, 0.011, 0.002, 0.019, 0, 0.213, 0.029, 0.103, 0.017, 0.016, 0.016, 0, 0.002, 0.097, 0.03, 0.004, 0.013, 0, 0, 0, 0.007, 0, 0.016, 0, 0, 0, 0, 0, 0.002, 0.004, 0, 0, 0, 0, 0, 0, 0.014, 0, 0.006, 0.04, 0, 0.023, 0, 0, 0, 0, 0, 0, 0.002, 0, 0.006, 0.013, 0.006, 0.006, 0.057, 0.012, 0.46, 0.459, 0.014, 0.019, 0.01, 0.008, 0.044, 0.031, 0.009, 0.013, 0, 0.233, 0, 0.002, 0, 0, 0.002, 0, 0, 0, 0, 0.002, 0, 0, 0, 0.01, 0.072, 0.022, 0, 0.047, 0, 0, 0.002, 0.032, 0, 0, 0.002, 0, 0.004, 0, 0, 0, 0.004, 0.002, 0.002, 0, 0, 0.002, 0, 0.002, 0.004, 0, 0, 0, 0, 0, 0, 0, 0, 0.002, 0, 0.002, 0, 0.002, 0.002, 0, 0, 0.002, 0.002, 0.131, 0.002, 0.006, 0.045, 0.062, 0.049, 0.446, 0.009, 0.027, 0.002, 0.005, 0, 0.005, 0.01, 0.141, 0.072, 0.023, 0.007, 0.008, 0.091, 0.008, 0.002, 0.004, 0.004, 0.002, 0, 0.002, 0, 0, 0, 0, 0, 0.002, 0.002, 0, 0.008, 0.007, 0, 0.015, 0.005, 0.026, 0, 0.007, 0.013, 0, 0, 0, 0, 0.005, 0, 0.002, 0.025, 0.081, 0, 0, 0, 0, 0, 0, 0, 0.005, 0, 0, 0, 0, 0, 0, 0, 0, 0, 0.002, 0, 0.032, 0.004, 0.007, 0, 0.006, 0.207, 0.002, 0, 0.004, 0.002, 0, 0.011, 0.163, 0, 0, 0, 0, 0.002, 0, 0.002, 0, 0, 0.005, 0, 0, 0, 0, 0, 0, 0.002, 0.002, 0.189, 0.19, 0.198, 0.009, 0.007, 0.033, 0.023, 0.02, 0.03, 0.02, 0.027, 0.023, 0.048, 0.006, 0.018, 0.014, 0.021, 0.028, 0, 0, 0.008, 0.033, 0.005, 0.004, 0, 0, 0.002, 0, 0, 0, 0, 0.016, 0.002, 0, 0, 0, 0, 0, 0.002, 0, 0.016, 0.005, 0, 0, 0, 0, 0.002, 0, 0.004, 0, 0, 0.002, 0, 0.002, 0, 0, 0, 0, 0, 0, 0, 0, 0, 0, 0, 0, 0.013, 0.01, 0.006, 0, 0, 0, 0, 0.002, 0, 0.002, 0, 0, 0, 0.002, 0, 0, 0.008, 0.005, 0, 0, 0.002, 0, 0, 0.01, 0, 0, 0, 0, 0.002, 0, 0, 0.002, 0.002, 0, 0, 0, 0, 0.005, 0, 0.026, 0, 0.021, 0.002, 0, 0, 0.002, 0, 0.005, 0, 0, 0.006, 0.002, 0, 0, 0, 0.002, 0, 0.002, 0.002, 0, 0.066, 0, 0, 0.006, 0, 0, 0.012, 0, 0, 0, 0, 0, 0, 0, 0, 0.027, 0, 0.01, 0.002, 0, 0, 0, 0, 0, 0, 0, 0, 0.002, 0.002, 0, 0, 0, 0, 0, 0.002, 0, 0.002, 0.002, 0, 0, 0, 0.004, 0, 0.002, 0, 0, 0, 0.023, 0, 0, 0.263, 0, 0, 0, 0, 0, 0, 0, 0, 0, 0, 0, 0, 0, 0, 0, 0, 0, 0, 0, 0, 0, 0.127, 0.043, 0.002, 0.002, 0, 0.002, 0.004, 0.002, 0, 0, 0, 0.002, 0, 0.194, 0.002, 0, 0.002, 0, 0, 0, 0.038, 0.002, 0, 0.002, 0, 0, 0, 0, 0, 0.002, 0, 0.008, 0.002, 0, 0, 0, 0, 0.01, 0.161, 0.118, 0, 0, 0.007, 0, 0, 0.338, 0, 0, 0, 0, 0.002, 0.028, 0.002, 0, 0.002, 0.027, 0, 0, 0, 0, 0.002, 0.002, 0.576, 0, 0.002, 0, 0.002, 0, 0, 0.008, 0, 0, 0, 0, 0, 0.002, 0.002, 0.004, 0, 0.006, 0, 0.027, 0.002, 0.014, 0, 0, 0, 0, 0.004, 0.004, 0, 0, 0, 0, 0, 0, 0, 0, 0, 0, 0, 0, 0, 0, 0, 0, 0, 0.002, 0.004, 0, 0, 0, 0.002, 0, 0.004, 0.002, 0, 0, 0, 0.006, 0, 0, 0.005, 0, 0, 0, 0.008, 0, 0, 0, 0.005, 0.429, 0, 0.012, 0.004, 0.002, 0.004, 0.002, 0, 0, 0, 0, 0, 0.002, 0.016, 0, 0.002, 0, 0, 0, 0, 0, 0, 0.002, 0, 0, 0.002, 0, 0, 0, 0, 0, 0, 0, 0, 0, 0, 0, 0, 0, 0, 0, 0, 0, 0.068, 0.276, 0, 0, 0, 0.002, 0, 0, 0.006, 0.029, 0.007, 0, 0.002, 0.029, 0, 0, 0, 0, 0.005, 0.007, 0, 0, 0, 0, 0, 0, 0.002, 0.02, 0.004, 0, 0, 0, 0, 0, 0, 0, 0, 0, 0, 0, 0.013, 0.023, 0.092, 0.002, 0.002, 0.013, 0, 0, 0, 0, 0, 0, 0, 0, 0, 0, 0, 0.002, 0, 0.006, 0.006, 0.002, 0.073, 0.007, 0.13, 0.008, 0.017, 0.005, 0.603, 0.002, 0.002, 0.016, 0, 0, 0.009, 0.031, 0.029, 0.008, 0, 0, 0, 0.01, 0, 0, 0.002, 0.002, 0, 0, 0.226, 0, 0, 0.006, 0, 0.014, 0, 0, 0, 0, 0, 0, 0, 0.002, 0, 0.425, 0.008, 0, 0.002, 0, 0, 0, 0.006, 0.002, 0, 0, 0, 0.002, 0, 0, 0.011, 0.15, 0, 0, 0.005, 0, 0, 0, 0, 0.002, 0, 0, 0, 0, 0.004, 0, 0.01, 0.002, 0, 0, 0, 0.002, 0, 0, 0, 0, 0, 0, 0, 0, 0.002, 0, 0.005, 0, 0.009, 0, 0, 0, 0.045, 0, 0.006, 0.023, 0, 0, 0.002, 0, 0.002, 0.018, 0.01, 0.012, 0, 0, 0, 0, 0.002, 0, 0, 0, 0, 0, 0.002, 0, 0.002, 0, 0, 0.021, 0, 0, 0, 0, 0, 0, 0, 0, 0.002, 0, 0.002, 0, 0.008, 0, 0, 0.019, 0.005, 0.004, 0, 0, 0, 0.002, 0, 0, 0, 0.006, 0, 0, 0, 0.006, 0, 0.002, 0.007, 0, 0, 0, 0, 0, 0, 0.007, 0, 0, 0.018, 0, 0.002, 0, 0.002, 0, 0.029, 0.006, 0, 0, 0, 0, 0, 0.004, 0, 0.005, 0, 0, 0, 0, 0.036, 0, 0, 0, 0, 0, 0, 0, 0, 0, 0, 0.002, 0.002, 0, 0, 0.002, 0.002, 0, 0, 0, 0.029, 0, 0, 0, 0, 0.004, 0, 0, 0, 0.034, 0, 0, 0, 0.005, 0, 0, 0, 0, 0, 0, 0.011, 0.002, 0, 0, 0, 0, 0, 0, 0, 0, 0, 0, 0.004, 0, 0.002, 0, 0, 0, 0, 0, 0, 0, 0, 0.004, 0, 0.005, 0, 0, 0, 0, 0, 0.002, 0, 0, 0, 0.004, 0.004, 0.03, 0.002, 0.002, 0.022, 0.006, 0.002, 0, 0, 0, 0, 0, 0, 0.005, 0, 0.035, 0.002, 0, 0, 0, 0, 0, 0.008, 0, 0, 0, 0.002, 0, 0, 0.002, 0, 0, 0, 0, 0, 0, 0, 0, 0, 0, 0, 0, 0, 0, 0, 0.002, 0, 0.418, 0, 0, 0, 0, 0, 0, 0, 0, 0, 0, 0, 0, 0, 0, 0, 0, 0, 0, 0, 0, 0, 0, 0, 0.004, 0, 0, 0, 0, 0, 0, 0, 0.002, 0, 0.002, 0, 0, 0, 0.018, 0, 0.002, 0.004, 0, 0, 0.002, 0.083, 0, 0, 0, 0, 0, 0, 0, 0, 0, 0, 0.002, 0, 0.002, 0, 0, 0, 0, 0.005, 0, 0, 0, 0, 0, 0, 0, 0, 0, 0, 0, 0, 0.005, 0, 0, 0, 0, 0.01, 0, 0, 0.002, 0, 0.002, 0, 0.01, 0.026, 0.002, 0.013, 0, 0, 0, 0, 0.028, 0.002, 0, 0, 0, 0.006, 0.004, 0.002, 0, 0.002, 0, 0, 0, 0.007, 0.006, 0, 0.002, 0.002, 0, 0, 0, 0, 0, 0.024, 0, 0, 0.01, 0, 0, 0.002, 0, 0, 0, 0.014, 0.002, 0, 0.002, 0, 0.002, 0.038, 0.426, 0, 0, 0, 0.004, 0, 0.002, 0, 0, 0, 0, 0, 0, 0, 0, 0.004, 0, 0, 0, 0, 0, 0.002, 0, 0, 0, 0.004, 0, 0, 0.007, 0, 0, 0, 0.002, 0, 0, 0.009, 0, 0.01, 0, 0, 0.002, 0.039, 0, 0, 0.028, 0.008, 0, 0, 0, 0.071, 0.004, 0, 0, 0.002, 0, 0, 0.006, 0.002, 0.157, 0.002, 0, 0, 0, 0, 0.007, 0, 0, 0, 0, 0.005, 0, 0, 0, 0.034, 0.005, 0, 0, 0.005, 0, 0, 0, 0, 0, 0.002, 0.004, 0, 0, 0.002, 0, 0.004, 0.008, 0, 0, 0, 0, 0, 0, 0, 0, 0, 0, 0.033, 0.002, 0, 0, 0.002, 0, 0.004, 0, 0, 0.029, 0.027, 0.004, 0, 0, 0, 0, 0.004, 0.004, 0.018, 0.002, 0.002, 0, 0, 0.005, 0.002, 0, 0.005, 0, 0.015, 0.002, 0, 0.004, 0.012, 0.01, 0, 0.002, 0, 0, 0, 0.004, 0.002, 0.004, 0.004, 0.002, 0.01, 0.016, 0, 0.002, 0, 0, 0, 0, 0, 0.002, 0.002]\n"
     ]
    }
   ],
   "source": [
    "from pandas import read_csv\n",
    "\n",
    "path = '/home/dbeltran_local/downloads/'\n",
    "%cd $path\n",
    "\n",
    "# The dataset format is tsv (tabulator separated values)\n",
    "mutations_dataset = 'nextstrain_ncov_global_diversity.tsv'\n",
    "\n",
    "# Then we read the file using the tabulator as separator\n",
    "df = read_csv(mutations_dataset, sep='\\t')\n",
    "\n",
    "# The original dataset contains data about many other covid related genes\n",
    "# Get only spike mutations\n",
    "df = df.loc[df['gene'] == 'S']\n",
    "\n",
    "# Harvest all the entropies from the dataset\n",
    "# Use the reference protein sequence as a mold\n",
    "entropies = []\n",
    "for r, residue in enumerate(sequence):\n",
    "    entropy = 0\n",
    "    # WARNING: Residues numeration goes from 1 to n while in our array we count from 0 to n\n",
    "    row = df.loc[df['position'] == r+1]\n",
    "    if not row.empty:\n",
    "        entropy = row.iloc[0]['entropy']\n",
    "        # Round to the third decimal\n",
    "        entropy = round(entropy * 1000) / 1000\n",
    "    entropies.append(entropy)\n",
    "print(len(entropies))\n",
    "    \n",
    "# Now print entropies and update the database manually\n",
    "# The whole array may not fit in the mongo shell buffer, so you may have to do it in pieces\n",
    "print(entropies)"
   ]
  },
  {
   "cell_type": "code",
   "execution_count": null,
   "metadata": {},
   "outputs": [],
   "source": []
  }
 ],
 "metadata": {
  "kernelspec": {
   "display_name": "Python 3",
   "language": "python",
   "name": "python3"
  },
  "language_info": {
   "codemirror_mode": {
    "name": "ipython",
    "version": 3
   },
   "file_extension": ".py",
   "mimetype": "text/x-python",
   "name": "python",
   "nbconvert_exporter": "python",
   "pygments_lexer": "ipython3",
   "version": "3.7.4"
  }
 },
 "nbformat": 4,
 "nbformat_minor": 4
}
