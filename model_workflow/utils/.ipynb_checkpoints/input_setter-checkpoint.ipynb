{
 "cells": [
  {
   "cell_type": "markdown",
   "metadata": {},
   "source": [
    "# Inputs setter\n",
    "\n",
    "This notebook is a tool to manually set the workflow inputs with descriptions and examples. Values set here are then exported to a json file which is mandatory to run the MoDEL analyses workflow.\n",
    "\n",
    "Inputs:\n",
    "1. [Chainnames](#chainnames)\n",
    "2. [Ligands](#ligands)\n",
    "3. [Interactions](#interactions)\n",
    "4. [Membranes](#membranes)\n",
    "6. [Metadata](#metadata)\n",
    "7. [Simulation parameters](#simulation)"
   ]
  },
  {
   "cell_type": "code",
   "execution_count": 1,
   "metadata": {},
   "outputs": [],
   "source": [
    "inputs = {}"
   ]
  },
  {
   "cell_type": "markdown",
   "metadata": {},
   "source": [
    "### Chainnames <a name=\"chainnames\"></a>\n",
    "\n",
    "Set the chain names<br />\n",
    "This names are used to label chains in the web client\n",
    "\n",
    "#### Example:\n",
    "\n",
    "```python\n",
    "{\n",
    "    'A':'Protein',\n",
    "    'B':'Protein',\n",
    "    'G':'Glycans'\n",
    "}\n",
    "```"
   ]
  },
  {
   "cell_type": "code",
   "execution_count": 2,
   "metadata": {},
   "outputs": [],
   "source": [
    "inputs['chainnames'] = {\n",
    "    'A':'NSP16',\n",
    "}"
   ]
  },
  {
   "cell_type": "markdown",
   "metadata": {},
   "source": [
    "### Ligands <a name=\"ligands\"></a>\n",
    "\n",
    "Set all ligands in the simulation. Each ligand has the following attributes:\n",
    "    - name: this is used as the ligand NGL representation label\n",
    "    - ngl: NGL selection used to represent the ligand on the NGL viewer in the client\n",
    "    - drugbank (Optional): the drugbank accession which is used in the overview to make a link\n",
    "    - chembl (Optional): the chembl accession which is used in the overview to make a link\n",
    "    \n",
    "At this moment, ligands are used nowhere in the workflow\n",
    "    \n",
    "NGL viewer selection:\n",
    "http://nglviewer.org/ngl/api/manual/usage/selection-language.html\n",
    "    \n",
    "#### Example:\n",
    "\n",
    "```python\n",
    "{\n",
    "    'name': 'Some compount',\n",
    "    'ngl': ':L',\n",
    "    'drugbank': 'DB00945',\n",
    "    'chembl': 'CHEMBL25'\n",
    "},\n",
    "{\n",
    "    'name': 'Some nucleic acid',\n",
    "    'ngl': ':A or :B'\n",
    "}\n",
    "```\n"
   ]
  },
  {
   "cell_type": "code",
   "execution_count": 3,
   "metadata": {},
   "outputs": [],
   "source": [
    "inputs['ligands'] = []"
   ]
  },
  {
   "cell_type": "markdown",
   "metadata": {},
   "source": [
    "### Interactions <a name=\"interactions\"></a>\n",
    "\n",
    "Set which are the interesting interactions to be analyzed<br />\n",
    "A bunch of interaction-specific analyses will be run for each interaction and displayed in the web client\n",
    "\n",
    "Interactions are defined by the 'agents' which are meant to interact pairwise. An 'agent' may be anything, even a group of unrelated molecules. The only condition is that agents must be defined by residues. The workflow will find out which residues of each agent are close enought to be considered as interface residues. These residues will be the ones considered in interface analyses<br />\n",
    "\n",
    "Interactions are uploaded to the database as part of the project metadata. They include the interaction name, agents name, residues selection of both whole agents and the residue selections of both agent interfaces<br />\n",
    "\n",
    "Each interaction has the following attributes:\n",
    "    - name: a string tag used to relate interaction analyses data with their corresponding residues.\n",
    "    In addition, the name is used to label the corresponding analyses in the web client\n",
    "    - agent_1: the name of the first agent in the interaction, which is used to label in the client\n",
    "    - selection_1: the prody selection of the first agent in the interaction\n",
    "    - agent_2: the name of the second agent in the interaction, which is used to label in the client\n",
    "    - selection_2: the prody selection of the second agent in the interaction\n",
    "    \n",
    "Prody selection:\n",
    "http://prody.csb.pitt.edu/manual/reference/atomic/select.html\n",
    "    \n",
    "#### Example:\n",
    "\n",
    "```python\n",
    "{\n",
    "    'name': 'protein-ligand interaction',\n",
    "    'agent_1': 'protein',\n",
    "    'selection_1': 'not resname lig',\n",
    "    'agent_2': 'ligand',\n",
    "    'selection_2': 'resname lig',\n",
    "},\n",
    "{\n",
    "    'name': 'domain-domain interaction',\n",
    "    'agent_1': 'domain 1',\n",
    "    'selection_1': 'resnum 2:291',\n",
    "    'agent_2': 'domain 2',\n",
    "    'selection_2': 'resnum 306:529',\n",
    "},\n",
    "```"
   ]
  },
  {
   "cell_type": "code",
   "execution_count": 4,
   "metadata": {},
   "outputs": [],
   "source": [
    "inputs['interactions'] = []"
   ]
  },
  {
   "cell_type": "markdown",
   "metadata": {},
   "source": [
    "### Membranes <a name=\"membranes\"></a>\n",
    "\n",
    "[EXPERIMENTAL INPUT]\n",
    "\n",
    "Set those elements which must be considered membrane<br/>\n",
    "These elements are excluded in some analyses such as RMSD per residue<br/>\n",
    "These elements will be representated in the web client with a specific pattern:\n",
    "- Licorice\n",
    "- Purple color\n",
    "- Low opacity\n",
    "\n",
    "\n",
    "To define a membrane it is required a name and a selection in Prody selection lenguage\n",
    "\n",
    "\n",
    "Prody selection:\n",
    "http://prody.csb.pitt.edu/manual/reference/atomic/select.html\n",
    "\n",
    "#### Example:\n",
    "\n",
    "```python\n",
    "{\n",
    "    'name': 'Cell membrane',\n",
    "    'selection': 'chain M',\n",
    "}\n",
    "```"
   ]
  },
  {
   "cell_type": "code",
   "execution_count": 5,
   "metadata": {},
   "outputs": [],
   "source": [
    "inputs['membranes'] = []"
   ]
  },
  {
   "cell_type": "markdown",
   "metadata": {},
   "source": [
    "The web client sets some default representations (ngl configurations) to highlight important features in the structure according to the topology reference or interactions. \n",
    "\n",
    "In addition, you may set extra customized representations which are interesting and thus must have an independent highlight system. This has no effect in the workflow, but it is very visual in the client.<br />\n",
    "<span style=\"color:red\">WARNING: Make sure whatever you want to highlight is not already highlighted by default or it would be duplicated</span>\n",
    "\n",
    "#### Example:\n",
    "\n",
    "```python\n",
    "[\n",
    "    {\n",
    "        \"name\" : \"Remdesivir\",\n",
    "        \"representations\" : [\n",
    "            {\n",
    "                \"name\" : \"Remdesivir\",\n",
    "                \"selection\" : \"REM\",\n",
    "                \"type\" : \"licorice\"\n",
    "            }\n",
    "        ]\n",
    "    }\n",
    "]\n",
    "```"
   ]
  },
  {
   "cell_type": "code",
   "execution_count": 6,
   "metadata": {},
   "outputs": [],
   "source": [
    "inputs['customs'] = []"
   ]
  },
  {
   "cell_type": "markdown",
   "metadata": {},
   "source": [
    "## Project metadata <a name=\"metadata\"></a>\n",
    "\n",
    "The following metadata has no effect on the workflow itself, but it will be written to the output metadata file. These values will be uploaded to the database and then exposed in the project overview. They may be also useful to search this simulation in the browser."
   ]
  },
  {
   "cell_type": "markdown",
   "metadata": {},
   "source": [
    "Set which family does this trajectory belong to.\n",
    "\n",
    "Supported units:\n",
    "- RBD-ACE2\n",
    "- RBD\n",
    "- ACE2\n",
    "- Spike\n",
    "- 3CLpro\n",
    "- PLpro\n",
    "- Polymerase\n",
    "- Exoribonuclease\n",
    "- Other"
   ]
  },
  {
   "cell_type": "code",
   "execution_count": 7,
   "metadata": {},
   "outputs": [],
   "source": [
    "inputs['unit'] = 'NSP16/10'"
   ]
  },
  {
   "cell_type": "markdown",
   "metadata": {},
   "source": [
    "Set the source pdb ids of the trajectory structure<br />\n",
    "Additional data from the pdb is harvested by the loader while uploading to the database<br />\n",
    "This data is displayed in the overview page\n",
    "\n",
    "#### Example:\n",
    "\n",
    "```python\n",
    "['2AJF', '6M17']\n",
    "```"
   ]
  },
  {
   "cell_type": "code",
   "execution_count": 8,
   "metadata": {},
   "outputs": [],
   "source": [
    "inputs['pdbIds'] = ['6W4H']"
   ]
  },
  {
   "cell_type": "markdown",
   "metadata": {},
   "source": [
    "Write a breif description or title for this trajectory for the overview page<br />\n",
    "This name may be used by the client to search the trajectory in the database<br />\n",
    "The name is displayed in the overview page"
   ]
  },
  {
   "cell_type": "code",
   "execution_count": 9,
   "metadata": {},
   "outputs": [],
   "source": [
    "inputs['name'] = 'Nsp16 monomer from SARS-CoV-2'"
   ]
  },
  {
   "cell_type": "markdown",
   "metadata": {},
   "source": [
    "Write additional comments<br />\n",
    "The description is displayed in the overview page"
   ]
  },
  {
   "cell_type": "code",
   "execution_count": 10,
   "metadata": {},
   "outputs": [],
   "source": [
    "inputs['description'] = 'Markov state model built from 770 microseconds of aggregate simulation time collected on Folding@home. Folding@home simulations were launched from the structures generated using an adaptive sampling method (FAST-Pocket).'"
   ]
  },
  {
   "cell_type": "markdown",
   "metadata": {},
   "source": [
    "Write author names<br />\n",
    "Authors are displayed in the overview page"
   ]
  },
  {
   "cell_type": "code",
   "execution_count": 11,
   "metadata": {},
   "outputs": [],
   "source": [
    "inputs['authors'] = 'Neha Vithani, Maxwell I. Zimmerman, Gregory R. Bowman'"
   ]
  },
  {
   "cell_type": "markdown",
   "metadata": {},
   "source": [
    "Write author group name/s\n",
    "The group is displayed in the overview page"
   ]
  },
  {
   "cell_type": "code",
   "execution_count": 12,
   "metadata": {},
   "outputs": [],
   "source": [
    "inputs['groups'] = 'Gregory R. Bowman (Bowman lab)'"
   ]
  },
  {
   "cell_type": "markdown",
   "metadata": {},
   "source": [
    "How to contact the authors. The contact is displayed in the overview page"
   ]
  },
  {
   "cell_type": "code",
   "execution_count": 13,
   "metadata": {},
   "outputs": [],
   "source": [
    "inputs['contact'] = None"
   ]
  },
  {
   "cell_type": "markdown",
   "metadata": {},
   "source": [
    "Program (software) name which carried the trajectory and its version<br />\n",
    "Program and version are both displayed in the overview page<br/>\n",
    "<span style=\"color:red\">WARNING: Check the database search page in order to see current values</span>"
   ]
  },
  {
   "cell_type": "code",
   "execution_count": 14,
   "metadata": {},
   "outputs": [],
   "source": [
    "inputs['program'] = 'GROMACS'\n",
    "inputs['version'] = '5.0.4'"
   ]
  },
  {
   "cell_type": "markdown",
   "metadata": {},
   "source": [
    "Type of molecular dynamics.<br/>\n",
    "At this moment there are only two options in this field: 'trajectory' and 'ensemble'.<br/>\n",
    "Note that this field has an effect on the client. Some time-dependent analysis will change the labels of their axes in order to make sense. e.g. RMSD X axis will be 'frames' instead of 'time'."
   ]
  },
  {
   "cell_type": "code",
   "execution_count": null,
   "metadata": {},
   "outputs": [],
   "source": [
    "inputs['type'] = 'trajectory'"
   ]
  },
  {
   "cell_type": "markdown",
   "metadata": {},
   "source": [
    "MD method\n",
    "e.g. 'Classical MD', 'Targeted MD', 'Biased MD (Accelerated Weighted Ensemble)', Enhanced sampling (Hamiltonian Replica Exchange) ...\n",
    "MD method is displayed in the overview"
   ]
  },
  {
   "cell_type": "code",
   "execution_count": 15,
   "metadata": {},
   "outputs": [],
   "source": [
    "inputs['method'] = 'Classical MD combined with Adaptive sampling method (FAST-pocket)'"
   ]
  },
  {
   "cell_type": "markdown",
   "metadata": {},
   "source": [
    "License and link to the license web page<br />\n",
    "The license is displayed in the overview page. Under the license there is a 'More information' button. The link is used to redirect the user when the button is clicked"
   ]
  },
  {
   "cell_type": "code",
   "execution_count": 16,
   "metadata": {},
   "outputs": [],
   "source": [
    "inputs['license'] = (\"This trajectory dataset is released under a Creative Commons \"\n",
    "           \"Attribution 4.0 International Public License\")\n",
    "inputs['linkcense'] = \"https://creativecommons.org/licenses/by/4.0/\""
   ]
  },
  {
   "cell_type": "markdown",
   "metadata": {},
   "source": [
    "Citation for refering this simulation. The citation is displayed in the overview page<br />\n",
    "To set a citation use the following instructions:\n",
    "To add a line break type '(br)' inside the citation string\n",
    "To add superior text type '^' before each character"
   ]
  },
  {
   "cell_type": "code",
   "execution_count": 17,
   "metadata": {},
   "outputs": [],
   "source": [
    "inputs['citation'] = 'Vithani N, Ward MD, Zimmerman MI, Novak B, Borowsky JH, Singh S, Bowman GR (2021) SARS-CoV-2 Nsp16 activation mechanism and a cryptic pocket with pan-coronavirus antiviral potential. Biophys. J. 120: 2880-2889'"
   ]
  },
  {
   "cell_type": "markdown",
   "metadata": {},
   "source": [
    "Acknowledgements to be shown in the overview page"
   ]
  },
  {
   "cell_type": "code",
   "execution_count": 18,
   "metadata": {},
   "outputs": [],
   "source": [
    "inputs['thanks'] = 'We are grateful to the citizen scientists who contribute to Folding@home by running simulations on their personal computers. This work was funded by NSF CAREER Award MCB-1552471, NSF RAPID 58628, NIH R01 GM124007 and RF1AG067194'"
   ]
  },
  {
   "cell_type": "markdown",
   "metadata": {},
   "source": [
    "Links to somewhere related to the simulation\n",
    "\n",
    "\n",
    "WARNING: This field has no effect anywhere in our work stream BUT others may rely on it. MolSSI uses this field to find simulations in our database and then to place the embed viewer in their website. You must fit to the standard when adding a new MolSSI simulation.\n",
    "\n",
    "#### Example:\n",
    "\n",
    "```python\n",
    "[\n",
    "    {\n",
    "        'name': 'Data source',\n",
    "        'url': 'https://data.source.org/'\n",
    "    },\n",
    "    {...}\n",
    "]\n",
    "```"
   ]
  },
  {
   "cell_type": "code",
   "execution_count": 19,
   "metadata": {},
   "outputs": [],
   "source": [
    "inputs['links'] = []"
   ]
  },
  {
   "cell_type": "markdown",
   "metadata": {},
   "source": [
    "## Simulation parameters <a name=\"simulation\"></a>\n",
    "\n",
    "These inputs may be automatically mined from the topology and trajectory files<br />\n",
    "However they also may be forced here<br />\n",
    "<span style=\"color:red\">DANI: Todo mentira. El minado de metadata para estos valores no funciona casi nunca</span><br />\n",
    "<span style=\"color:red\">DANI: Dejé de mantenerlo hace tiempo y hay que poner todos los valores a mano</span>"
   ]
  },
  {
   "cell_type": "markdown",
   "metadata": {},
   "source": [
    "Length is an important value since it is used in many graph axes in the web client"
   ]
  },
  {
   "cell_type": "code",
   "execution_count": 20,
   "metadata": {},
   "outputs": [],
   "source": [
    "inputs['length'] = 1000 # In nanoseconds (ns)"
   ]
  },
  {
   "cell_type": "markdown",
   "metadata": {},
   "source": [
    "The rest of values are displayed in the web client as trajectory metadata<br />\n",
    "These values do not affect other outcomes<br/>\n",
    "<span style=\"color:red\">WARNING: Check the database search page in order to see current values</span><br/>\n",
    "<span style=\"color:red\">WARNING: Specially check already existing force fields and how they are named</span>"
   ]
  },
  {
   "cell_type": "code",
   "execution_count": 21,
   "metadata": {},
   "outputs": [],
   "source": [
    "inputs['temp'] = None # In Kelvin (K)\n",
    "inputs['ensemble'] = None # e.g. NVT, NPT, etc.\n",
    "inputs['timestep'] = None # In fs (fs/step)\n",
    "inputs['ff'] = 'Amber ff03' # Force fields (e.g. ['CHARMM36'])\n",
    "inputs['wat'] = 'TIP3P' # Water force field (e.g. TIP3P)\n",
    "inputs['boxtype'] = 'Dodecahedron' # e.g. Triclinic, Cubic, Dodecahedron"
   ]
  },
  {
   "cell_type": "markdown",
   "metadata": {},
   "source": [
    "## Export\n",
    "\n",
    "Finally export everything to json format"
   ]
  },
  {
   "cell_type": "code",
   "execution_count": 22,
   "metadata": {},
   "outputs": [],
   "source": [
    "import json\n",
    "\n",
    "# Export it to json\n",
    "inputs_filename = 'inputs.json'\n",
    "with open(inputs_filename, 'w') as file:\n",
    "    json.dump(inputs, file, indent=4)"
   ]
  },
  {
   "cell_type": "code",
   "execution_count": null,
   "metadata": {},
   "outputs": [],
   "source": []
  }
 ],
 "metadata": {
  "kernelspec": {
   "display_name": "Python 3",
   "language": "python",
   "name": "python3"
  },
  "language_info": {
   "codemirror_mode": {
    "name": "ipython",
    "version": 3
   },
   "file_extension": ".py",
   "mimetype": "text/x-python",
   "name": "python",
   "nbconvert_exporter": "python",
   "pygments_lexer": "ipython3",
   "version": "3.6.9"
  }
 },
 "nbformat": 4,
 "nbformat_minor": 4
}
