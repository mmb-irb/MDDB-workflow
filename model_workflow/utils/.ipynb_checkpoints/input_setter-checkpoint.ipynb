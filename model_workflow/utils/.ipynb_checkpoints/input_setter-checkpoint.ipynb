{
 "cells": [
  {
   "cell_type": "markdown",
   "metadata": {},
   "source": [
    "# Inputs setter\n",
    "\n",
    "This notebook is a tool to manually set the workflow inputs with descriptions and examples. Values set here are then exported to a json file which is mandatory to run the MoDEL analyses workflow.\n",
    "\n",
    "Inputs:\n",
    "1. [Chainnames](#chainnames)\n",
    "2. [Ligands](#ligands)\n",
    "3. [Interactions](#interactions)\n",
    "4. [Topology references](#toporefs)\n",
    "5. [Metadata](#metadata)\n",
    "6. [Simulation parameters](#simulation)"
   ]
  },
  {
   "cell_type": "code",
   "execution_count": 1,
   "metadata": {},
   "outputs": [],
   "source": [
    "inputs = {}"
   ]
  },
  {
   "cell_type": "markdown",
   "metadata": {},
   "source": [
    "### Chainnames <a name=\"chainnames\"></a>\n",
    "\n",
    "Set the chain names<br />\n",
    "This names are used to label chains in the web client\n",
    "\n",
    "#### Example:\n",
    "\n",
    "```python\n",
    "{\n",
    "    'A':'Protein',\n",
    "    'B':'Protein',\n",
    "    'G':'Glycans'\n",
    "}\n",
    "```"
   ]
  },
  {
   "cell_type": "code",
   "execution_count": 5,
   "metadata": {},
   "outputs": [],
   "source": [
    "inputs['chainnames'] = {\n",
    "    'A':'Spike',\n",
    "    'B':'Spike',\n",
    "    'C':'Spike',\n",
    "}"
   ]
  },
  {
   "cell_type": "markdown",
   "metadata": {},
   "source": [
    "### Ligands <a name=\"ligands\"></a>\n",
    "\n",
    "Set all ligands in the simulation. Each ligand has the following attributes:\n",
    "    - name: this is used as chain name and as the ligand NGL representation label\n",
    "    - ngl: NGL selection used to represent the ligand in the NGL viewer\n",
    "    - prody: ProDy selection used to handle workflow analyses where this ligand is involved\n",
    "    - acpype: set if the ligand charges must be guessed by ACPYPE (e.g. compounds)\n",
    "    - accession (Optional): the drugbank accession which is used in the overview to make a link\n",
    "    (DANI: Habría que cambiarle el nombre de 'accession' por 'drugbank')\n",
    "    - chembl (Optional): the chembl accession which is used in the overview to make a link\n",
    "    \n",
    "NGL viewer selection:\n",
    "http://nglviewer.org/ngl/api/manual/usage/selection-language.html    \n",
    "ProDy selection:\n",
    "http://prody.csb.pitt.edu/manual/reference/atomic/select.html\n",
    "    \n",
    "#### Example:\n",
    "\n",
    "```python\n",
    "{\n",
    "    'name': 'Some compount',\n",
    "    'ngl': ':L',\n",
    "    'prody': 'chain L',\n",
    "    'acpype': True,\n",
    "    'accession': 'DB00945',\n",
    "    'chembl': 'CHEMBL25',\n",
    "}\n",
    "{\n",
    "    'name': 'Some nucleic acid',\n",
    "    'ngl': ':A or :B',\n",
    "    'prody': 'chain A or chain B',\n",
    "    'acpype': False,\n",
    "}\n",
    "```\n"
   ]
  },
  {
   "cell_type": "code",
   "execution_count": 6,
   "metadata": {},
   "outputs": [],
   "source": [
    "inputs['ligands'] = []"
   ]
  },
  {
   "cell_type": "markdown",
   "metadata": {},
   "source": [
    "### Interactions <a name=\"interactions\"></a>\n",
    "\n",
    "[EXPERIMENTAL INPUT]\n",
    "\n",
    "Set which are the interesting interactions to be analyzed<br />\n",
    "A bunch of interaction-specific analyses will be run for each interaction and displayed in the web client\n",
    "\n",
    "Interactions are defined by the 'agents' which are meant to interact pairwise. An 'agent' may be anything, even a group of unrelated molecules. The only condition is that agents must be defined by residues. The workflow will find out which residues of each agent are close enought to be considered as interface residues. These residues will be the ones considered in interface analyses<br />\n",
    "\n",
    "Interactions are uploaded to the database as part of the project metadata. They include the interaction name, agents name, residues selection of both whole agents and the residue selections of both agent interfaces<br />\n",
    "\n",
    "Each interaction has the following attributes:\n",
    "    - name: a string tag used to relate interaction analyses data with their corresponding residues.\n",
    "    In addition, the name is used to label the corresponding analyses in the web client\n",
    "    - agent_1: the name of the first agent in the interaction, which is used to label in the client\n",
    "    - selection_1: the prody selection of the first agent in the interaction\n",
    "    - agent_2: the name of the second agent in the interaction, which is used to label in the client\n",
    "    - selection_2: the prody selection of the second agent in the interaction\n",
    "    \n",
    "Prody selection:\n",
    "http://prody.csb.pitt.edu/manual/reference/atomic/select.html\n",
    "    \n",
    "#### Example:\n",
    "\n",
    "```python\n",
    "{\n",
    "    'name':'protein-ligand interaction',\n",
    "    'agent_1': 'protein',\n",
    "    'selection_1': 'not resname lig',\n",
    "    'agent_2': 'ligand',\n",
    "    'selection_2': 'resname lig',\n",
    "}\n",
    "{\n",
    "    'name':'domain-domain interaction',\n",
    "    'agent_1': 'domain 1',\n",
    "    'selection_1': 'resnum 2:291',\n",
    "    'agent_2': 'domain 2',\n",
    "    'selection_2': 'resnum 306:529',\n",
    "},\n",
    "```"
   ]
  },
  {
   "cell_type": "code",
   "execution_count": 7,
   "metadata": {},
   "outputs": [],
   "source": [
    "inputs['interactions'] = [\n",
    "    {\n",
    "        'name':'RBD 1-RBD 2 interaction',\n",
    "        'agent_1': 'RBD 1',\n",
    "        'selection_1': 'resnum 306:529',\n",
    "        'agent_2': 'RBD 2',\n",
    "        'selection_2': 'resnum 1593:1816',\n",
    "    },\n",
    "    {\n",
    "        'name':'RBD 2-RBD 3 interaction',\n",
    "        'agent_1': 'RBD 2',\n",
    "        'selection_1': 'resnum 1593:1816',\n",
    "        'agent_2': 'RBD 3',\n",
    "        'selection_2': 'resnum 2878:3101',\n",
    "    },\n",
    "    {\n",
    "        'name':'RBD 3-RBD 1 interaction',\n",
    "        'agent_1': 'RBD 3',\n",
    "        'selection_1': 'resnum 2878:3101',\n",
    "        'agent_2': 'RBD 1',\n",
    "        'selection_2': 'resnum 306:529',\n",
    "    },\n",
    "    {\n",
    "        'name':'NTD 1-RBD 2 interaction',\n",
    "        'agent_1': 'NTD 1',\n",
    "        'selection_1': 'resnum 2:291',\n",
    "        'agent_2': 'RBD 2',\n",
    "        'selection_2': 'resnum 1593:1816',\n",
    "    },\n",
    "    {\n",
    "        'name':'NTD 2-RBD 3 interaction',\n",
    "        'agent_1': 'NTD 2',\n",
    "        'selection_1': 'resnum 1289:1578',\n",
    "        'agent_2': 'RBD 3',\n",
    "        'selection_2': 'resnum 2878:3101',\n",
    "    },\n",
    "    {\n",
    "        'name':'NTD 3-RBD 1 interaction',\n",
    "        'agent_1': 'NTD 3',\n",
    "        'selection_1': 'resnum 2574:2863',\n",
    "        'agent_2': 'RBD 1',\n",
    "        'selection_2': 'resnum 306:529',\n",
    "    },\n",
    "]"
   ]
  },
  {
   "cell_type": "markdown",
   "metadata": {},
   "source": [
    "### Topology references <a name=\"toporefs\"></a>\n",
    "\n",
    "[EXPERIMENTAL INPUT]\n",
    "\n",
    "Set the protein references (if any) according to other standard databases (e.g. UniProt, NCBI).\n",
    "\n",
    "These references include the aminoacids sequence and allows the resiude aligns to find mutations, deletions and other possible modifications. In addition, it is used to represent correctly the epitopes and mutations analyses.\n",
    "\n",
    "These references have been added to the workflow and database manually. Check the workflow resources to know which references are available. Use the reference names to include them.\n",
    "e.g. 'SARS-CoV-2 spike'"
   ]
  },
  {
   "cell_type": "code",
   "execution_count": null,
   "metadata": {},
   "outputs": [],
   "source": [
    "inputs['toporefs'] = ['SARS-CoV-2 spike']"
   ]
  },
  {
   "cell_type": "markdown",
   "metadata": {},
   "source": [
    "In addition, you may set extra customized default representations (ngl configurations) which are interesting and thus must have an independent highlight system. This has no effect in the workflow, but it is very visual in the client.<br />\n",
    "<span style=\"color:red\">WARNING: Make sure whatever you want to highlight is not already highlighted by the topology reference</span>"
   ]
  },
  {
   "cell_type": "code",
   "execution_count": 8,
   "metadata": {},
   "outputs": [],
   "source": [
    "inputs['customs'] = []"
   ]
  },
  {
   "cell_type": "markdown",
   "metadata": {},
   "source": [
    "## Metadata <a name=\"metadata\"></a>\n",
    "\n",
    "The following metadata has no effect on the workflow itself, but they will be written to the metadata file. These values will be uploaded to the database and then exposed in the web client"
   ]
  },
  {
   "cell_type": "markdown",
   "metadata": {},
   "source": [
    "Set which family does this trajectory belong to. For example, in the Bioexcel CV19 context, families are 'ACE2', 'Spike', 'RBD', etc."
   ]
  },
  {
   "cell_type": "code",
   "execution_count": 9,
   "metadata": {},
   "outputs": [],
   "source": [
    "inputs['unit'] = 'Spike'"
   ]
  },
  {
   "cell_type": "markdown",
   "metadata": {},
   "source": [
    "<span style=\"color:red\">DANI: Esto está completamente obsoleto</span><br />\n",
    "<span style=\"color:red\">DANI: Cuando volvamos a trabajar con simulaciones de membrana habrá que plantearse un nuevo sistema tipo 'ligands' pero para las membranas</span><br />\n",
    "\n",
    "Set the membrane type as the name of membrane resiudes in the pdb file<br />\n",
    "Set the membrane as 'No' if there is no membrane<br />"
   ]
  },
  {
   "cell_type": "code",
   "execution_count": 10,
   "metadata": {},
   "outputs": [],
   "source": [
    "inputs['membrane'] = 'No'"
   ]
  },
  {
   "cell_type": "markdown",
   "metadata": {},
   "source": [
    "Set the source pdb of the trajectory structure<br />\n",
    "Additional data from the pdb is harvested by the loader while uploading to the database<br />\n",
    "This data is displayed in the overview page"
   ]
  },
  {
   "cell_type": "code",
   "execution_count": 11,
   "metadata": {},
   "outputs": [],
   "source": [
    "inputs['pdbId'] = '6ACC'"
   ]
  },
  {
   "cell_type": "markdown",
   "metadata": {},
   "source": [
    "Write a breif description or title for this trajectory for the overview page<br />\n",
    "This name may be used by the client to search the trajectory in the database<br />\n",
    "The name is displayed in the overview page"
   ]
  },
  {
   "cell_type": "code",
   "execution_count": 12,
   "metadata": {},
   "outputs": [],
   "source": [
    "inputs['name'] = ('SARS-CoV2 spike glycoprotein homotrimeric head-in a closed conformation (1μs)')"
   ]
  },
  {
   "cell_type": "markdown",
   "metadata": {},
   "source": [
    "Write additional comments<br />\n",
    "The description is displayed in the overview page"
   ]
  },
  {
   "cell_type": "code",
   "execution_count": 13,
   "metadata": {},
   "outputs": [],
   "source": [
    "inputs['description'] = (\"1μs simulation trajectoryof the spike glycoprotein head based on the structure released on the SwissModel website to which 18 N-glycans were added on each subunit based on the experimentally determined glycomic profile. The C-and N-peptide termini are capped with amide and acetyl groups, respectively.The simulation was carried out using the Amber ff14SB force field and GLYCAM_06j for the protein and N-glycans, respectively. The periodic-cubic water box was solvated with TIP3P water molecules. The system was neutralized with NaClto attain an ionic concentration of 0.15M.The simulations were conducted at 310 K in the NPT ensemble.\")"
   ]
  },
  {
   "cell_type": "markdown",
   "metadata": {},
   "source": [
    "Write author names<br />\n",
    "Authors are displayed in the overview page"
   ]
  },
  {
   "cell_type": "code",
   "execution_count": 14,
   "metadata": {},
   "outputs": [],
   "source": [
    "inputs['authors'] = ('Giulia Paiardi, Stefan Richter, Marco Rusnati, Rebecca Wade')"
   ]
  },
  {
   "cell_type": "markdown",
   "metadata": {},
   "source": [
    "Write author group name/s\n",
    "The group is displayed in the overview page"
   ]
  },
  {
   "cell_type": "code",
   "execution_count": 15,
   "metadata": {},
   "outputs": [],
   "source": [
    "inputs['groups'] = ('Molecular and Cellular Modeling Group, Heidelberg Institute for Theoretical Studies (HITS), Heidelberg, Germany. Experimental Oncology and Immunology, Department of Molecular and Translational Medicine, University of Brescia, Brescia, Italy.')"
   ]
  },
  {
   "cell_type": "markdown",
   "metadata": {},
   "source": [
    "How to contact the authors. The contact is displayed in the overview page"
   ]
  },
  {
   "cell_type": "code",
   "execution_count": 16,
   "metadata": {},
   "outputs": [],
   "source": [
    "inputs['contact'] = 'For further informations or any queries, please contact mcmsoft@h-its.org'"
   ]
  },
  {
   "cell_type": "markdown",
   "metadata": {},
   "source": [
    "Program (software) name which carried the trajectory and its version<br />\n",
    "Program and version are both displayed in the overview page"
   ]
  },
  {
   "cell_type": "code",
   "execution_count": 17,
   "metadata": {},
   "outputs": [],
   "source": [
    "inputs['program'] = 'Amber20'\n",
    "inputs['version'] = '2020'"
   ]
  },
  {
   "cell_type": "markdown",
   "metadata": {},
   "source": [
    "License and link to the license web page<br />\n",
    "The license is displayed in the overview page. Under the license there is a 'More information' button. The link is used to redirect the user when the button is clicked"
   ]
  },
  {
   "cell_type": "code",
   "execution_count": 18,
   "metadata": {},
   "outputs": [],
   "source": [
    "inputs['license'] = (\"This trajectory dataset is released under a Creative Commons \"\n",
    "           \"Attribution 4.0 International Public License\")\n",
    "inputs['linkcense'] = \"https://creativecommons.org/licenses/by/4.0/\""
   ]
  },
  {
   "cell_type": "markdown",
   "metadata": {},
   "source": [
    "Citation for refering this simulation. The citation is displayed in the overview page<br />\n",
    "To set a citation use the following instructions:\n",
    "To add a line break type '(br)' inside the citation string\n",
    "To add superior text type '^' before each character"
   ]
  },
  {
   "cell_type": "code",
   "execution_count": 19,
   "metadata": {},
   "outputs": [],
   "source": [
    "inputs['citation'] = 'Mechanism of inhibition of Sars-CoV2 infection by the interaction of the spike glycoprotein with heparin.(br)Giulia Paiardi, Stefan Richter, Marco Rusnati, Rebecca C. Wade. In preparation.'"
   ]
  },
  {
   "cell_type": "markdown",
   "metadata": {},
   "source": [
    "Acknowledgements to be shown in the overview page"
   ]
  },
  {
   "cell_type": "code",
   "execution_count": 20,
   "metadata": {},
   "outputs": [],
   "source": [
    "inputs['thanks'] = 'We gratefully acknowledge PRACE for awarding us access to Marconi100 based in Italy at CINECA (Project COVID19-54) to generate these trajectories. The technical support of Alessandro Grottesi from CINECA (Italy) and Filippo Spiga from NVIDIA is gratefully acknowledged. We thank the Klaus Tschira Foundation for support. G.P. was supported by Erasmus+, an EMBO short-term fellowship (STF_8594) and The Guido Berlucchi foundation young researchers mobility program.'"
   ]
  },
  {
   "cell_type": "markdown",
   "metadata": {},
   "source": [
    "## Simulation parameters <a name=\"simulation\"></a>\n",
    "\n",
    "These inputs may be automatically mined from the topology and trajectory files<br />\n",
    "However they also may be forced here<br />\n",
    "<span style=\"color:red\">DANI: Todo mentira. El minado de metadata para estos valores no funciona casi nunca</span><br />\n",
    "<span style=\"color:red\">DANI: Dejé de mantenerlo hace tiempo y hay que poner todos los valores a mano</span>"
   ]
  },
  {
   "cell_type": "markdown",
   "metadata": {},
   "source": [
    "Length is an important value since it is used in many graph axes in the web client"
   ]
  },
  {
   "cell_type": "code",
   "execution_count": 21,
   "metadata": {},
   "outputs": [],
   "source": [
    "inputs['length'] = 1000 # In nanoseconds (ns)"
   ]
  },
  {
   "cell_type": "markdown",
   "metadata": {},
   "source": [
    "The rest of values are displayed in the web client as trajectory metadata<br />\n",
    "These values do not affect other outcomes"
   ]
  },
  {
   "cell_type": "code",
   "execution_count": 22,
   "metadata": {},
   "outputs": [],
   "source": [
    "inputs['temp'] = 310 # In Kelvin (K)\n",
    "inputs['ensemble'] = 'NPT' # e.g. NVT, NPT, etc.\n",
    "inputs['timestep'] = None # In fs (fs/step)\n",
    "inputs['pcoupling'] = None # e.g. Isotropic\n",
    "inputs['ff'] = 'ff14SB GLYCAM_06j' # Force fields\n",
    "inputs['wat'] = 'TIP3P' # Water force field\n",
    "inputs['boxtype'] = 'Triclinic' # e.g. Triclinic"
   ]
  },
  {
   "cell_type": "markdown",
   "metadata": {},
   "source": [
    "## Export\n",
    "\n",
    "Finally export everything to json format"
   ]
  },
  {
   "cell_type": "code",
   "execution_count": 23,
   "metadata": {},
   "outputs": [],
   "source": [
    "import json\n",
    "\n",
    "# Export it to json\n",
    "inputs_filename = 'inputs.json'\n",
    "with open(inputs_filename, 'w') as file:\n",
    "    json.dump(inputs, file, indent=4)"
   ]
  },
  {
   "cell_type": "code",
   "execution_count": null,
   "metadata": {},
   "outputs": [],
   "source": []
  }
 ],
 "metadata": {
  "kernelspec": {
   "display_name": "Python 3",
   "language": "python",
   "name": "python3"
  },
  "language_info": {
   "codemirror_mode": {
    "name": "ipython",
    "version": 3
   },
   "file_extension": ".py",
   "mimetype": "text/x-python",
   "name": "python",
   "nbconvert_exporter": "python",
   "pygments_lexer": "ipython3",
   "version": "3.7.4"
  }
 },
 "nbformat": 4,
 "nbformat_minor": 4
}
