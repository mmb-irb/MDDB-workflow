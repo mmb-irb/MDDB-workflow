{
 "cells": [
  {
   "cell_type": "code",
   "execution_count": 1,
   "id": "060cc271",
   "metadata": {},
   "outputs": [],
   "source": [
    "import os\n",
    "from model_workflow.mwf import Project, MD\n",
    "from model_workflow.mwf import project_requestables, md_requestables"
   ]
  },
  {
   "cell_type": "code",
   "execution_count": 2,
   "id": "edefc566",
   "metadata": {},
   "outputs": [
    {
     "data": {
      "text/plain": [
       "(dict_keys(['itopology', 'inputs', 'populations', 'transitions', 'topology', 'stopology', 'pdbs', 'mapping', 'ligands', 'lipids', 'screenshot', 'pmeta', 'chains', 'membranes']),\n",
       " dict_keys(['istructure', 'itrajectory', 'structure', 'trajectory', 'clusters', 'dist', 'energies', 'hbonds', 'helical', 'markov', 'pca', 'pockets', 'rgyr', 'rmsds', 'perres', 'pairwise', 'rmsf', 'sas', 'tmscore', 'density', 'thickness', 'apl', 'lorder', 'linter', 'dihedrals', 'interactions', 'mdmeta']))"
      ]
     },
     "execution_count": 2,
     "metadata": {},
     "output_type": "execute_result"
    }
   ],
   "source": [
    "# Load the Project main class\n",
    "os.makedirs('test_data', exist_ok=True)\n",
    "project = Project(directory='test_data', accession='A01IP', sample_trajectory=10)\n",
    "md: MD = project.mds[0]\n",
    "project_requestables.keys(), md_requestables.keys()"
   ]
  },
  {
   "cell_type": "code",
   "execution_count": 4,
   "id": "d3dea1f1",
   "metadata": {},
   "outputs": [
    {
     "name": "stdout",
     "output_type": "stream",
     "text": [
      "-> Running RMSDs analysis\n",
      " Reference: firstframe, Selection: protein, mass weighted\n",
      " Reference: firstframe, Selection: ligand 13885838, mass weighted\n",
      " Reference: average, Selection: protein, mass weighted\n",
      " Reference: average, Selection: ligand 13885838, mass weighted\n"
     ]
    }
   ],
   "source": [
    "# Run a specific task from md_requestables\n",
    "md_task = 'rmsds'\n",
    "md.overwritables = {md_task}\n",
    "md_requestables[md_task](md)"
   ]
  },
  {
   "cell_type": "code",
   "execution_count": 7,
   "id": "f9dd9bf8",
   "metadata": {},
   "outputs": [
    {
     "data": {
      "text/plain": [
       "<Structure (95368 atoms)>"
      ]
     },
     "execution_count": 7,
     "metadata": {},
     "output_type": "execute_result"
    }
   ],
   "source": [
    "# Load any pdb file as a Structure object\n",
    "from model_workflow.utils.structures import Structure\n",
    "\n",
    "pdb_path = md_requestables['istructure'](md).path\n",
    "mwf_stc  = Structure.from_pdb_file(pdb_path)\n",
    "mwf_stc"
   ]
  },
  {
   "cell_type": "code",
   "execution_count": 8,
   "id": "67bdaac3",
   "metadata": {},
   "outputs": [
    {
     "data": {
      "text/plain": [
       "<Selection (14484 atoms)>"
      ]
     },
     "execution_count": 8,
     "metadata": {},
     "output_type": "execute_result"
    }
   ],
   "source": [
    "# Use a selection\n",
    "mwf_stc.select('protein')"
   ]
  }
 ],
 "metadata": {
  "kernelspec": {
   "display_name": "mwf_env",
   "language": "python",
   "name": "python3"
  },
  "language_info": {
   "codemirror_mode": {
    "name": "ipython",
    "version": 3
   },
   "file_extension": ".py",
   "mimetype": "text/x-python",
   "name": "python",
   "nbconvert_exporter": "python",
   "pygments_lexer": "ipython3",
   "version": "3.9.21"
  }
 },
 "nbformat": 4,
 "nbformat_minor": 5
}
