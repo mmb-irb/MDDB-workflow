{
 "cells": [
  {
   "cell_type": "markdown",
   "metadata": {},
   "source": [
    "This script mines data from a GISAID exported dataset<br />\n",
    "To obtain the dataset this steps were performed (19/11/2020):\n",
    "    - Go to https://www.gisaid.org/epiflu-applications/phylodynamics/\n",
    "    - In the very bottom of the web page click on 'download data'\n",
    "    - Download the 'genetic diversity data (tsv)' dataset\n",
    "    \n",
    "The reference genome for this data is here https://www.ncbi.nlm.nih.gov/nuccore/MN908947<br />\n",
    "The sequence of the spike protein residues was manually copied"
   ]
  },
  {
   "cell_type": "code",
   "execution_count": 1,
   "metadata": {},
   "outputs": [
    {
     "name": "stdout",
     "output_type": "stream",
     "text": [
      "1273\n"
     ]
    }
   ],
   "source": [
    "sequence = ('MFVFLVLLPLVSSQCVNLTTRTQLPPAYTNSFTRGVYYPDKVFR'\n",
    "            'SSVLHSTQDLFLPFFSNVTWFHAIHVSGTNGTKRFDNPVLPFNDGVYFASTEKSNIIR'\n",
    "            'GWIFGTTLDSKTQSLLIVNNATNVVIKVCEFQFCNDPFLGVYYHKNNKSWMESEFRVY'\n",
    "            'SSANNCTFEYVSQPFLMDLEGKQGNFKNLREFVFKNIDGYFKIYSKHTPINLVRDLPQ'\n",
    "            'GFSALEPLVDLPIGINITRFQTLLALHRSYLTPGDSSSGWTAGAAAYYVGYLQPRTFL'\n",
    "            'LKYNENGTITDAVDCALDPLSETKCTLKSFTVEKGIYQTSNFRVQPTESIVRFPNITN'\n",
    "            'LCPFGEVFNATRFASVYAWNRKRISNCVADYSVLYNSASFSTFKCYGVSPTKLNDLCF'\n",
    "            'TNVYADSFVIRGDEVRQIAPGQTGKIADYNYKLPDDFTGCVIAWNSNNLDSKVGGNYN'\n",
    "            'YLYRLFRKSNLKPFERDISTEIYQAGSTPCNGVEGFNCYFPLQSYGFQPTNGVGYQPY'\n",
    "            'RVVVLSFELLHAPATVCGPKKSTNLVKNKCVNFNFNGLTGTGVLTESNKKFLPFQQFG'\n",
    "            'RDIADTTDAVRDPQTLEILDITPCSFGGVSVITPGTNTSNQVAVLYQDVNCTEVPVAI'\n",
    "            'HADQLTPTWRVYSTGSNVFQTRAGCLIGAEHVNNSYECDIPIGAGICASYQTQTNSPR'\n",
    "            'RARSVASQSIIAYTMSLGAENSVAYSNNSIAIPTNFTISVTTEILPVSMTKTSVDCTM'\n",
    "            'YICGDSTECSNLLLQYGSFCTQLNRALTGIAVEQDKNTQEVFAQVKQIYKTPPIKDFG'\n",
    "            'GFNFSQILPDPSKPSKRSFIEDLLFNKVTLADAGFIKQYGDCLGDIAARDLICAQKFN'\n",
    "            'GLTVLPPLLTDEMIAQYTSALLAGTITSGWTFGAGAALQIPFAMQMAYRFNGIGVTQN'\n",
    "            'VLYENQKLIANQFNSAIGKIQDSLSSTASALGKLQDVVNQNAQALNTLVKQLSSNFGA'\n",
    "            'ISSVLNDILSRLDKVEAEVQIDRLITGRLQSLQTYVTQQLIRAAEIRASANLAATKMS'\n",
    "            'ECVLGQSKRVDFCGKGYHLMSFPQSAPHGVVFLHVTYVPAQEKNFTTAPAICHDGKAH'\n",
    "            'FPREGVFVSNGTHWFVTQRNFYEPQIITTDNTFVSGNCDVVIGIVNNTVYDPLQPELD'\n",
    "            'SFKEELDKYFKNHTSPDVDLGDISGINASVVNIQKEIDRLNEVAKNLNESLIDLQELG'\n",
    "            'KYEQYIKWPWYIWLGFIAGLIAIVMVTIMLCCMTSCCSCLKGCCSCGSCCKFDEDDSE'\n",
    "            'PVLKGVKLHYT')\n",
    "\n",
    "print(len(sequence))"
   ]
  },
  {
   "cell_type": "code",
   "execution_count": 2,
   "metadata": {},
   "outputs": [
    {
     "name": "stdout",
     "output_type": "stream",
     "text": [
      "/home/dbeltran_local/Descargas\n",
      "[-inf, -inf, -inf, -4.710530701645918, -inf, -2.4769384801388235, -4.961845129926824, -inf, -5.298317366548036, -inf, -inf, -5.809142990314028, -2.7488721956224653, -5.809142990314028, -4.074541934925921, -5.809142990314028, -inf, -inf, -3.0576076772720784, -inf, -4.509860006183766, -4.710530701645918, -4.8283137373023015, -inf, -inf, -5.809142990314028, -4.961845129926824, -4.017383521085972, -5.298317366548036, -4.605170185988091, -5.298317366548036, -inf, -inf, -5.298317366548036, -inf, -3.146555163288575, -inf, -inf, -inf, -inf, -inf, -inf, -inf, -inf, -inf, -inf, -5.809142990314028, -inf, -inf, -3.6119184129778077, -5.809142990314028, -5.298317366548036, -inf, -inf, -3.912023005428146, -inf, -inf, -5.809142990314028, -inf, -inf, -inf, -inf, -5.809142990314028, -inf, -inf, -inf, -inf, -4.268697949366879, -5.809142990314028, -3.2441936328524905, -4.268697949366879, -5.809142990314028, -5.809142990314028, -5.298317366548036, -5.809142990314028, -3.2441936328524905, -4.3428059215206005, -5.298317366548036, -5.298317366548036, -inf, -3.3524072174927233, -inf, -inf, -5.298317366548036, -5.809142990314028, -inf, -inf, -inf, -inf, -inf, -4.3428059215206005, -inf, -inf, -inf, -inf, -3.9633162998156966, -inf, -inf, -3.1941832122778293, -inf, -inf, -inf, -inf, -inf, -inf, -inf, -inf, -5.809142990314028, -inf, -inf, -inf, -4.961845129926824, -5.809142990314028, -inf, -inf, -inf, -inf, -inf, -inf, -4.961845129926824, -inf, -5.809142990314028, -inf, -inf, -inf, -inf, -inf, -inf, -inf, -inf, -inf, -inf, -inf, -inf, -inf, -inf, -inf, -inf, -3.3813947543659757, -inf, -inf, -inf, -4.605170185988091, -5.298317366548036, -inf, -inf, -inf, -inf, -inf, -inf, -inf, -4.961845129926824, -4.8283137373023015, -2.4079456086518722, -4.422848629194137, -5.809142990314028, -5.298317366548036, -5.809142990314028, -5.809142990314028, -inf, -inf, -inf, -inf, -inf, -inf, -inf, -inf, -inf, -inf, -inf, -5.809142990314028, -5.298317366548036, -inf, -5.809142990314028, -5.298317366548036, -inf, -4.961845129926824, -4.605170185988091, -4.961845129926824, -5.298317366548036, -5.298317366548036, -4.3428059215206005, -5.298317366548036, -4.8283137373023015, -inf, -5.809142990314028, -4.961845129926824, -inf, -inf, -inf, -inf, -inf, -inf, -inf, -inf, -inf, -inf, -inf, -5.809142990314028, -inf, -inf, -inf, -inf, -inf, -inf, -inf, -inf, -inf, -inf, -inf, -5.809142990314028, -5.809142990314028, -inf, -4.710530701645918, -4.422848629194137, -4.605170185988091, -inf, -inf, -inf, -inf, -5.809142990314028, -inf, -1.8325814637483102, -inf, -inf, -inf, -inf, -inf, -inf, -inf, -inf, -inf, -5.809142990314028, -5.298317366548036, -inf, -inf, -inf, -5.298317366548036, -inf, -inf, -inf, -5.809142990314028, -5.298317366548036, -5.298317366548036, -5.298317366548036, -5.809142990314028, -5.298317366548036, -inf, -inf, -5.809142990314028, -5.298317366548036, -5.809142990314028, -inf, -4.3428059215206005, -4.3428059215206005, -5.809142990314028, -5.809142990314028, -5.298317366548036, -4.3428059215206005, -inf, -inf, -3.863232841258714, -3.506557897319982, -5.298317366548036, -5.809142990314028, -inf, -inf, -inf, -inf, -inf, -inf, -inf, -3.7297014486341915, -5.809142990314028, -5.298317366548036, -inf, -inf, -inf, -inf, -inf, -inf, -3.0576076772720784, -inf, -inf, -inf, -inf, -5.809142990314028, -5.809142990314028, -5.809142990314028, -5.809142990314028, -inf, -inf, -inf, -inf, -inf, -inf, -inf, -inf, -inf, -4.961845129926824, -inf, -inf, -inf, -inf, -5.809142990314028, -inf, -inf, -3.816712825623821, -5.809142990314028, -5.298317366548036, -inf, -5.809142990314028, -inf, -inf, -4.8283137373023015, -inf, -inf, -inf, -inf, -inf, -5.809142990314028, -inf, -inf, -5.809142990314028, -inf, -inf, -inf, -inf, -inf, -inf, -inf, -inf, -inf, -inf, -inf, -inf, -inf, -inf, -inf, -inf, -inf, -5.809142990314028, -inf, -inf, -5.809142990314028, -inf, -5.298317366548036, -inf, -5.298317366548036, -5.809142990314028, -inf, -inf, -5.809142990314028, -inf, -4.8283137373023015, -inf, -5.298317366548036, -inf, -5.809142990314028, -5.809142990314028, -inf, -inf, -inf, -inf, -inf, -5.809142990314028, -inf, -5.809142990314028, -inf, -inf, -inf, -inf, -5.809142990314028, -5.809142990314028, -inf, -inf, -inf, -inf, -inf, -inf, -inf, -inf, -2.995732273553991, -inf, -4.199705077879927, -5.298317366548036, -inf, -inf, -inf, -inf, -inf, -inf, -inf, -5.809142990314028, -inf, -inf, -inf, -inf, -inf, -inf, -inf, -inf, -inf, -inf, -inf, -inf, -4.8283137373023015, -5.809142990314028, -5.809142990314028, -inf, -inf, -inf, -inf, -inf, -inf, -inf, -inf, -inf, -inf, -inf, -inf, -inf, -inf, -inf, -inf, -inf, -inf, -inf, -inf, -inf, -inf, -inf, -inf, -inf, -inf, -inf, -inf, -inf, -inf, -2.8302178350764176, -4.509860006183766, -inf, -inf, -inf, -inf, -5.809142990314028, -5.809142990314028, -inf, -inf, -inf, -inf, -inf, -inf, -4.710530701645918, -inf, -5.809142990314028, -inf, -inf, -inf, -4.017383521085972, -inf, -inf, -inf, -inf, -inf, -inf, -inf, -inf, -inf, -inf, -5.809142990314028, -inf, -inf, -5.809142990314028, -inf, -inf, -inf, -1.4784096500276962, -5.809142990314028, -4.961845129926824, -inf, -5.809142990314028, -inf, -5.298317366548036, -3.912023005428146, -inf, -5.298317366548036, -inf, -inf, -inf, -4.8283137373023015, -inf, -inf, -inf, -5.809142990314028, -inf, -inf, -inf, -inf, -inf, -inf, -3.912023005428146, -inf, -inf, -inf, -inf, -inf, -inf, -inf, -inf, -inf, -inf, -inf, -inf, -inf, -inf, -inf, -inf, -inf, -inf, -4.710530701645918, -inf, -4.422848629194137, -inf, -inf, -inf, -inf, -inf, -5.809142990314028, -4.8283137373023015, -inf, -inf, -inf, -inf, -inf, -inf, -inf, -inf, -inf, -inf, -inf, -inf, -inf, -inf, -inf, -5.809142990314028, -inf, -5.298317366548036, -inf, -inf, -inf, -inf, -inf, -inf, -inf, -inf, -5.809142990314028, -inf, -4.422848629194137, -inf, -inf, -5.809142990314028, -inf, -inf, -inf, -inf, -inf, -inf, -inf, -inf, -5.809142990314028, -inf, -4.074541934925921, -5.809142990314028, -5.298317366548036, -4.710530701645918, -inf, -inf, -inf, -inf, -inf, -inf, -inf, -3.7722610630529876, -inf, -5.298317366548036, -inf, -inf, -inf, -inf, -inf, -5.809142990314028, -inf, -inf, -inf, -inf, -inf, -inf, -inf, -inf, -inf, -inf, -inf, -inf, -5.809142990314028, -inf, -inf, -inf, -inf, -inf, -inf, -inf, -inf, -4.961845129926824, -1.2623083813388993, -inf, -inf, -inf, -5.298317366548036, -inf, -inf, -5.809142990314028, -5.298317366548036, -inf, -5.809142990314028, -5.809142990314028, -3.473768074496991, -inf, -inf, -inf, -inf, -5.298317366548036, -3.816712825623821, -inf, -inf, -inf, -inf, -inf, -5.809142990314028, -5.298317366548036, -5.809142990314028, -inf, -5.298317366548036, -5.809142990314028, -inf, -inf, -inf, -4.961845129926824, -inf, -inf, -inf, -inf, -inf, -inf, -3.4112477175156566, -4.3428059215206005, -inf, -inf, -4.961845129926824, -inf, -inf, -inf, -inf, -inf, -inf, -inf, -inf, -inf, -inf, -inf, -inf, -inf, -5.809142990314028, -5.298317366548036, -inf, -3.4420193761824103, -5.298317366548036, -2.9187712324178627, -inf, -5.809142990314028, -inf, -2.7333680090865, -5.809142990314028, -inf, -inf, -inf, -inf, -5.298317366548036, -3.575550768806933, -4.509860006183766, -4.8283137373023015, -inf, -inf, -inf, -inf, -inf, -inf, -inf, -5.298317366548036, -inf, -inf, -3.7297014486341915, -inf, -inf, -5.298317366548036, -5.298317366548036, -4.605170185988091, -inf, -5.809142990314028, -inf, -inf, -inf, -inf, -inf, -inf, -inf, -5.809142990314028, -inf, -inf, -inf, -inf, -inf, -inf, -3.4420193761824103, -inf, -inf, -inf, -inf, -inf, -inf, -5.809142990314028, -3.7297014486341915, -3.9633162998156966, -5.809142990314028, -inf, -inf, -inf, -5.809142990314028, -inf, -inf, -inf, -inf, -5.809142990314028, -inf, -inf, -inf, -inf, -4.199705077879927, -inf, -inf, -inf, -5.298317366548036, -inf, -inf, -5.809142990314028, -inf, -inf, -inf, -inf, -inf, -inf, -inf, -inf, -5.809142990314028, -inf, -5.809142990314028, -inf, -inf, -inf, -3.4112477175156566, -inf, -5.809142990314028, -5.809142990314028, -inf, -inf, -inf, -inf, -inf, -5.809142990314028, -5.809142990314028, -3.912023005428146, -inf, -inf, -inf, -inf, -inf, -inf, -inf, -inf, -inf, -inf, -inf, -5.809142990314028, -inf, -inf, -inf, -4.8283137373023015, -inf, -inf, -inf, -inf, -inf, -inf, -inf, -inf, -5.809142990314028, -inf, -5.809142990314028, -4.8283137373023015, -5.809142990314028, -5.298317366548036, -5.809142990314028, -3.912023005428146, -5.809142990314028, -5.809142990314028, -inf, -inf, -inf, -5.809142990314028, -inf, -inf, -inf, -5.809142990314028, -inf, -inf, -inf, -5.809142990314028, -inf, -inf, -inf, -5.809142990314028, -inf, -inf, -inf, -5.298317366548036, -inf, -inf, -inf, -inf, -4.710530701645918, -inf, -5.809142990314028, -5.298317366548036, -inf, -inf, -4.268697949366879, -inf, -5.809142990314028, -inf, -inf, -5.298317366548036, -inf, -5.809142990314028, -inf, -5.809142990314028, -inf, -5.809142990314028, -inf, -inf, -5.298317366548036, -inf, -inf, -inf, -inf, -inf, -inf, -inf, -inf, -inf, -inf, -4.8283137373023015, -4.961845129926824, -inf, -inf, -inf, -inf, -inf, -inf, -inf, -5.298317366548036, -inf, -inf, -inf, -inf, -5.809142990314028, -inf, -inf, -inf, -inf, -inf, -inf, -inf, -5.298317366548036, -inf, -inf, -inf, -inf, -inf, -inf, -inf, -5.809142990314028, -inf, -inf, -5.809142990314028, -inf, -inf, -inf, -inf, -inf, -inf, -inf, -inf, -inf, -5.809142990314028, -inf, -inf, -inf, -inf, -inf, -inf, -inf, -inf, -inf, -inf, -inf, -inf, -5.809142990314028, -inf, -inf, -5.809142990314028, -5.809142990314028, -inf, -5.298317366548036, -inf, -inf, -inf, -3.270169119255751, -inf, -5.809142990314028, -4.199705077879927, -4.3428059215206005, -inf, -inf, -inf, -inf, -inf, -5.809142990314028, -inf, -inf, -inf, -5.809142990314028, -inf, -5.809142990314028, -inf, -inf, -inf, -inf, -inf, -5.809142990314028, -inf, -inf, -inf, -inf, -inf, -inf, -inf, -inf, -inf, -inf, -inf, -inf, -inf, -inf, -5.809142990314028, -inf, -inf, -inf, -inf, -inf, -inf, -inf, -inf, -inf, -inf, -inf, -inf, -inf, -inf, -inf, -inf, -inf, -inf, -inf, -inf, -inf, -inf, -inf, -inf, -inf, -inf, -inf, -inf, -inf, -inf, -inf, -inf, -inf, -inf, -inf, -inf, -inf, -inf, -inf, -inf, -inf, -inf, -inf, -inf, -inf, -inf, -3.7297014486341915, -inf, -inf, -inf, -inf, -inf, -inf, -inf, -inf, -inf, -inf, -inf, -inf, -inf, -inf, -inf, -inf, -inf, -inf, -inf, -5.298317366548036, -inf, -inf, -inf, -inf, -inf, -inf, -inf, -inf, -inf, -5.809142990314028, -inf, -inf, -inf, -inf, -inf, -inf, -inf, -inf, -inf, -inf, -inf, -inf, -4.961845129926824, -inf, -inf, -inf, -inf, -2.995732273553991, -inf, -4.3428059215206005, -inf, -inf, -5.298317366548036, -5.809142990314028, -inf, -inf, -inf, -3.324236340526027, -inf, -inf, -inf, -inf, -5.809142990314028, -4.3428059215206005, -4.961845129926824, -inf, -5.809142990314028, -inf, -inf, -inf, -5.809142990314028, -inf, -inf, -inf, -inf, -inf, -inf, -inf, -inf, -inf, -4.710530701645918, -inf, -inf, -4.3428059215206005, -inf, -inf, -inf, -inf, -inf, -inf, -5.809142990314028, -5.809142990314028, -inf, -inf, -inf, -inf, -4.509860006183766, -4.509860006183766, -inf, -inf, -inf, -3.6119184129778077, -inf, -5.298317366548036, -inf, -inf, -5.809142990314028, -5.809142990314028, -inf, -inf, -inf, -inf, -inf, -inf, -inf, -inf, -inf, -inf, -4.8283137373023015, -inf, -inf, -inf, -5.298317366548036, -inf, -inf, -5.809142990314028, -5.809142990314028, -inf, -inf, -5.809142990314028, -inf, -inf, -5.298317366548036, -inf, -inf, -inf, -inf, -inf, -4.710530701645918, -inf, -inf, -3.7297014486341915, -3.6119184129778077, -inf, -inf, -inf, -3.9633162998156966, -inf, -inf, -inf, -inf, -inf, -inf, -4.605170185988091, -inf, -3.2968373663379125, -inf, -inf, -inf, -inf, -4.961845129926824, -inf, -5.809142990314028, -inf, -inf, -inf, -3.9633162998156966, -4.605170185988091, -inf, -inf, -inf, -5.298317366548036, -inf, -inf, -inf, -inf, -inf, -inf, -inf, -5.809142990314028, -inf, -4.710530701645918, -5.298317366548036, -inf, -inf, -inf, -5.809142990314028, -5.298317366548036, -inf, -5.809142990314028, -inf, -inf, -inf, -inf, -inf, -inf, -inf, -inf, -4.268697949366879, -inf, -inf, -inf, -inf, -inf, -inf, -inf, -inf, -4.509860006183766, -3.912023005428146, -inf, -inf, -5.809142990314028, -inf, -inf, -4.605170185988091, -inf, -5.298317366548036, -inf, -inf, -inf, -inf, -5.298317366548036, -inf, -5.298317366548036, -5.809142990314028, -5.809142990314028, -5.809142990314028, -inf, -5.809142990314028, -5.809142990314028, -5.809142990314028, -4.3428059215206005, -inf, -5.809142990314028, -inf, -inf, -inf, -5.809142990314028, -5.298317366548036, -5.298317366548036, -inf, -5.809142990314028, -4.199705077879927, -5.809142990314028, -inf, -inf, -inf, -inf, -5.809142990314028, -inf, -inf, -inf]\n"
     ]
    },
    {
     "name": "stderr",
     "output_type": "stream",
     "text": [
      "/home/dbeltran_local/anaconda3/envs/md/lib/python3.6/site-packages/ipykernel_launcher.py:27: RuntimeWarning: divide by zero encountered in log\n"
     ]
    }
   ],
   "source": [
    "from pandas import read_csv\n",
    "\n",
    "path = '/home/dbeltran_local/Descargas/'\n",
    "%cd $path\n",
    "\n",
    "# The dataset format is tsv (tabulator separated values)\n",
    "mutations_dataset = 'nextstrain_ncov_global_gisaid_diversity.tsv'\n",
    "\n",
    "# Then we read the file using the tabulator as separator\n",
    "df = read_csv(mutations_dataset, sep='\\t')\n",
    "\n",
    "# The original dataset contains data about many other covid related genes\n",
    "# Get only spike mutations\n",
    "df = df.loc[df['gene'] == 'S']\n",
    "\n",
    "# Harvest all the entropies from the dataset\n",
    "# Use the reference protein sequence as a mold\n",
    "entropies = []\n",
    "for r, residue in enumerate(sequence):\n",
    "    entropy = 0\n",
    "    row = df.loc[df['position'] == r]\n",
    "    if not row.empty:\n",
    "        entropy = row.iloc[0]['entropy']\n",
    "    entropies.append(entropy)\n",
    "   \n",
    "import numpy as np\n",
    "log_entropies = [ np.log(e) for e in entropies]\n",
    "print(log_entropies)\n",
    "# Now format data into a json to be imported"
   ]
  },
  {
   "cell_type": "code",
   "execution_count": 3,
   "metadata": {},
   "outputs": [
    {
     "name": "stdout",
     "output_type": "stream",
     "text": [
      "-1.2623083813388993\n"
     ]
    }
   ],
   "source": [
    "print(max(log_entropies))"
   ]
  },
  {
   "cell_type": "code",
   "execution_count": null,
   "metadata": {},
   "outputs": [],
   "source": []
  }
 ],
 "metadata": {
  "kernelspec": {
   "display_name": "Python 3",
   "language": "python",
   "name": "python3"
  },
  "language_info": {
   "codemirror_mode": {
    "name": "ipython",
    "version": 3
   },
   "file_extension": ".py",
   "mimetype": "text/x-python",
   "name": "python",
   "nbconvert_exporter": "python",
   "pygments_lexer": "ipython3",
   "version": "3.6.7"
  }
 },
 "nbformat": 4,
 "nbformat_minor": 4
}
