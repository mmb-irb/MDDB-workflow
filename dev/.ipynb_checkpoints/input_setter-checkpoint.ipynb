{
 "cells": [
  {
   "cell_type": "markdown",
   "metadata": {},
   "source": [
    "# Inputs setter\n",
    "\n",
    "This jupyter is a tool to manually set the workflow inputs. Values set here are then exported to a json file which is mandatory to run the MoDEL analyses workflow."
   ]
  },
  {
   "cell_type": "code",
   "execution_count": 1,
   "metadata": {},
   "outputs": [],
   "source": [
    "inputs = {}"
   ]
  },
  {
   "cell_type": "markdown",
   "metadata": {},
   "source": [
    "Set the topology file name"
   ]
  },
  {
   "cell_type": "code",
   "execution_count": 2,
   "metadata": {},
   "outputs": [],
   "source": [
    "inputs['original_topology_filename'] = 'md.imaged.rot.dry.pdb'"
   ]
  },
  {
   "cell_type": "markdown",
   "metadata": {},
   "source": [
    "Set the finally merged output trajectory name or the only input file name"
   ]
  },
  {
   "cell_type": "code",
   "execution_count": 3,
   "metadata": {},
   "outputs": [],
   "source": [
    "inputs['original_trajectory_filename'] = 'md.imaged.rot.xtc'"
   ]
  },
  {
   "cell_type": "markdown",
   "metadata": {},
   "source": [
    "Set how the trajectory must be imaged and fited\n",
    "These protocolos may help in some situations, but the imaging step can not be fully automatized\n",
    "If protocols do not work the gromacs parameters must be modified manually\n",
    "0 - No imaging, no fitting -> The trajectory is already imaged and fitted\n",
    "1 - No imaging, only fitting -> The trajectory is already imaged but not fitted\n",
    "2 - Single protein\n",
    "3 - Protein in membrane\n",
    "4 - Two interacting proteins"
   ]
  },
  {
   "cell_type": "code",
   "execution_count": 4,
   "metadata": {},
   "outputs": [],
   "source": [
    "inputs['preprocess_protocol'] = 0"
   ]
  },
  {
   "cell_type": "markdown",
   "metadata": {},
   "source": [
    "Set the chain names (EXPERIMENTAL INPUT)"
   ]
  },
  {
   "cell_type": "code",
   "execution_count": 5,
   "metadata": {},
   "outputs": [],
   "source": [
    "# e.g. { 'A':'Protein', 'B':'Protein', 'G':'Glycans' }\n",
    "inputs['chainnames'] = { 'A':'Spike', 'B':'Spike', 'C':'Spike', 'G':'Glycans', 'H':'Glycans', 'I':'Glycans' }"
   ]
  },
  {
   "cell_type": "markdown",
   "metadata": {},
   "source": [
    "Set the ligand name, DrugBank code and NGL selection (EXPERIMENTAL INPUT)"
   ]
  },
  {
   "cell_type": "code",
   "execution_count": 6,
   "metadata": {},
   "outputs": [],
   "source": [
    "# e.g. { 'name': drug, 'accession': drugbank, 'chembl': chembl, 'ngl_selection': ':L', 'prody_selection': 'chain L' }\n",
    "inputs['ligands'] = [\n",
    "    {\n",
    "        'name': 'skooma',\n",
    "        'accession': 'idk',\n",
    "        'chembl': 'whatever',\n",
    "        'ngl_selection': ':L',\n",
    "        'prody_selection': 'chain L'\n",
    "    }\n",
    "]"
   ]
  },
  {
   "cell_type": "markdown",
   "metadata": {},
   "source": [
    "Set customized default reprsenetations for topology regions (domains) which are interesting and thus must have an independent highlight system (EXPERIMENTAL INPUT)"
   ]
  },
  {
   "cell_type": "code",
   "execution_count": 7,
   "metadata": {},
   "outputs": [],
   "source": [
    "inputs['domains'] = []"
   ]
  },
  {
   "cell_type": "markdown",
   "metadata": {},
   "source": [
    "Set which are the interesting interfaces (EXPERIMENTAL INPUT)<br />\n",
    "A set of interface analyses will be run for each interface"
   ]
  },
  {
   "cell_type": "code",
   "execution_count": 8,
   "metadata": {},
   "outputs": [],
   "source": [
    "inputs['interfaces'] = []"
   ]
  },
  {
   "cell_type": "markdown",
   "metadata": {},
   "source": [
    "Set which family does this trajectory belong to. For example, in the Bioexcel CV19 context, families are 'ACE2', 'Spike', 'RBD', etc."
   ]
  },
  {
   "cell_type": "code",
   "execution_count": 9,
   "metadata": {},
   "outputs": [],
   "source": [
    "inputs['unit'] = 'Spike'"
   ]
  },
  {
   "cell_type": "markdown",
   "metadata": {},
   "source": [
    "Set the membrane type as the name of membrane resiudes in the pdb file<br />\n",
    "Set the membrane as 'No' if there is no membrane<br />\n",
    "This is just a metadata value now and has no additional utilities"
   ]
  },
  {
   "cell_type": "code",
   "execution_count": 10,
   "metadata": {},
   "outputs": [],
   "source": [
    "inputs['membrane'] = 'No'"
   ]
  },
  {
   "cell_type": "markdown",
   "metadata": {},
   "source": [
    "Set the source pdb of the trajectory structure<br />\n",
    "Additional data from the pdb is harvested by the loader while uploading to the database<br />\n",
    "This data is displayed in the overview page"
   ]
  },
  {
   "cell_type": "code",
   "execution_count": 11,
   "metadata": {},
   "outputs": [],
   "source": [
    "inputs['pdbId'] = '6vsb'"
   ]
  },
  {
   "cell_type": "markdown",
   "metadata": {},
   "source": [
    "Write a breif description or title for this trajectory for the overview page<br />\n",
    "This name may be used by the client to search the trajectory in the database<br />\n",
    "The name is displayed in the overview page"
   ]
  },
  {
   "cell_type": "code",
   "execution_count": 12,
   "metadata": {},
   "outputs": [],
   "source": [
    "inputs['name'] = ('Trajectories of full-length SPIKE protein in the Closed state (replica 1)')"
   ]
  },
  {
   "cell_type": "markdown",
   "metadata": {},
   "source": [
    "Write additional comments<br />\n",
    "The description is displayed in the overview page"
   ]
  },
  {
   "cell_type": "code",
   "execution_count": 13,
   "metadata": {},
   "outputs": [],
   "source": [
    "inputs['description'] = ('All-atom MD simulation of full-length SPIKE protein in the Open state '\n",
    "               'bearing N165A and N234A mutations, protein + glycans only')"
   ]
  },
  {
   "cell_type": "markdown",
   "metadata": {},
   "source": [
    "Write author names<br />\n",
    "Authors are displayed in the overview page"
   ]
  },
  {
   "cell_type": "code",
   "execution_count": 14,
   "metadata": {},
   "outputs": [],
   "source": [
    "inputs['authors'] = ('Lorenzo Casalino, Zied Gaieb, Abigail C. Dommer, Aoife M. Harbison,'\n",
    "           ' Carl A. Fogarty, Emilia P. Barros, Bryn C. Taylor, Elisa Fadda,'\n",
    "           ' Rommie E. Amaro')"
   ]
  },
  {
   "cell_type": "markdown",
   "metadata": {},
   "source": [
    "Program (software) name which carried the trajectory and its version<br />\n",
    "Program and version are both displayed in the overview page"
   ]
  },
  {
   "cell_type": "code",
   "execution_count": 15,
   "metadata": {},
   "outputs": [],
   "source": [
    "inputs['program'] = 'NAMD'\n",
    "inputs['version'] = '2.14'"
   ]
  },
  {
   "cell_type": "markdown",
   "metadata": {},
   "source": [
    "License and link to the license web page<br />\n",
    "The license is displayed in the overview page. Under the license there is a 'More information' button. The link is used to redirect the user when the button is clicked"
   ]
  },
  {
   "cell_type": "code",
   "execution_count": 16,
   "metadata": {},
   "outputs": [],
   "source": [
    "inputs['license'] = (\"This trajectory dataset is released under a Creative Commons \"\n",
    "           \"Attribution 4.0 International Public License\")\n",
    "inputs['linkcense'] = \"https://creativecommons.org/licenses/by/4.0/\""
   ]
  },
  {
   "cell_type": "markdown",
   "metadata": {},
   "source": [
    "Citation<br />\n",
    "To set a citation use the following instructions:\n",
    "To add a line break type '(br)' inside the citation string\n",
    "To add superior text type '^' before each character"
   ]
  },
  {
   "cell_type": "code",
   "execution_count": 17,
   "metadata": {},
   "outputs": [],
   "source": [
    "inputs['citation'] = ('D. E. Shaw Research,(br)\"Molecular Dynamics Simulations Related to SARS-CoV-2,\"(br)'\n",
    "            'D. E. Shaw Research Technical Data, 2020.(br)http://www.deshawresearch.com/resources_sarscov2.html/')"
   ]
  },
  {
   "cell_type": "markdown",
   "metadata": {},
   "source": [
    "## Metadata\n",
    "These inputs may be automatically mined from the topology and trajectory files\n",
    "However they also may be forced here<br />\n",
    "<span style=\"color:red\">DANI: Todo mentira. El minado de metadata para estos valores no funciona casi nunca</span><br />\n",
    "<span style=\"color:red\">DANI: Dejé de mantenerlo hace tiempo y hay que poner todos los valores a mano</span>"
   ]
  },
  {
   "cell_type": "code",
   "execution_count": 18,
   "metadata": {},
   "outputs": [],
   "source": [
    "# Length is an important value since it is used in many graph axes in the web client\n",
    "inputs['length'] = '411.7' # In nanoseconds (ns)\n",
    "# The rest of values do not affect other outcomes\n",
    "inputs['frequency'] = '100' # In picoseconds (ps)\n",
    "inputs['temp'] = 310 # In Kelvin (K)\n",
    "inputs['ensemble'] = 'NPT'\n",
    "inputs['timestep'] = '2' # In fs (fs/step)\n",
    "inputs['pcoupling'] = 'Isotropic'\n",
    "inputs['ff'] = 'CHARMM36 All-atom additive'\n",
    "inputs['wat'] = 'TIP3P'\n",
    "inputs['boxtype'] = 'Triclinic'"
   ]
  },
  {
   "cell_type": "markdown",
   "metadata": {},
   "source": [
    "Finally export everything to json format"
   ]
  },
  {
   "cell_type": "code",
   "execution_count": 19,
   "metadata": {},
   "outputs": [],
   "source": [
    "import json\n",
    "\n",
    "# Export it to json\n",
    "inputs_filename = 'inputs.json'\n",
    "with open(inputs_filename, 'w') as file:\n",
    "    json.dump(inputs, file)"
   ]
  },
  {
   "cell_type": "code",
   "execution_count": null,
   "metadata": {},
   "outputs": [],
   "source": []
  }
 ],
 "metadata": {
  "kernelspec": {
   "display_name": "Python 3",
   "language": "python",
   "name": "python3"
  },
  "language_info": {
   "codemirror_mode": {
    "name": "ipython",
    "version": 3
   },
   "file_extension": ".py",
   "mimetype": "text/x-python",
   "name": "python",
   "nbconvert_exporter": "python",
   "pygments_lexer": "ipython3",
   "version": "3.6.7"
  }
 },
 "nbformat": 4,
 "nbformat_minor": 4
}
