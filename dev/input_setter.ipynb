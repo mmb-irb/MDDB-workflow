{
 "cells": [
  {
   "cell_type": "markdown",
   "metadata": {},
   "source": [
    "# Inputs setter\n",
    "\n",
    "This notebook is a tool to manually set the workflow inputs with descriptions and examples. Values set here are then exported to a json file which is mandatory to run the MoDEL analyses workflow."
   ]
  },
  {
   "cell_type": "code",
   "execution_count": 1,
   "metadata": {},
   "outputs": [],
   "source": [
    "inputs = {}"
   ]
  },
  {
   "cell_type": "markdown",
   "metadata": {},
   "source": [
    "Set the topology file name"
   ]
  },
  {
   "cell_type": "code",
   "execution_count": 2,
   "metadata": {},
   "outputs": [],
   "source": [
    "inputs['original_topology_filename'] = 'md.imaged.rot.dry.pdb'"
   ]
  },
  {
   "cell_type": "markdown",
   "metadata": {},
   "source": [
    "Set the finally merged output trajectory name or the only input file name"
   ]
  },
  {
   "cell_type": "code",
   "execution_count": 3,
   "metadata": {},
   "outputs": [],
   "source": [
    "inputs['original_trajectory_filename'] = 'md.imaged.rot.xtc'"
   ]
  },
  {
   "cell_type": "markdown",
   "metadata": {},
   "source": [
    "Set how the trajectory must be imaged and fitted (i.e. centered, without translation or rotation)<br />\n",
    "These protocolos may help in some situations, but the imaging step can not be fully automatized<br />\n",
    "If protocols do not work the gromacs parameters must be modified manually<br />\n",
    "Available protocols:\n",
    "    0. No imaging, no fitting -> The trajectory is already imaged and fitted\n",
    "    1. No imaging, only fitting -> The trajectory is already imaged but not fitted\n",
    "    2. Single protein\n",
    "    3. Protein in membrane\n",
    "    4. Two interacting proteins"
   ]
  },
  {
   "cell_type": "code",
   "execution_count": 4,
   "metadata": {},
   "outputs": [],
   "source": [
    "inputs['preprocess_protocol'] = 0"
   ]
  },
  {
   "cell_type": "markdown",
   "metadata": {},
   "source": [
    "Set the chain names<br />\n",
    "This names are used to label chains in the web client\n",
    "\n",
    "#### Example:\n",
    "\n",
    "```python\n",
    "{\n",
    "    'A':'Protein',\n",
    "    'B':'Protein',\n",
    "    'G':'Glycans'\n",
    "}\n",
    "```"
   ]
  },
  {
   "cell_type": "code",
   "execution_count": 5,
   "metadata": {},
   "outputs": [],
   "source": [
    "inputs['chainnames'] = {}"
   ]
  },
  {
   "cell_type": "markdown",
   "metadata": {},
   "source": [
    "Set all ligands in the simulation. Each ligand has the following attributes:\n",
    "    - name: this is used as chain name and as the ligand NGL representation label\n",
    "    - accession: the drugbank accession which is used in the overview to build the link\n",
    "    (DANI: Habría que cambiarle el nombre de 'accession' por 'drugbank')\n",
    "    - chembl: the chembl accession which is used in the overview to build the link\n",
    "    - ngl_selection: used to represent the ligand in the NGL viewer\n",
    "    - prody_selection: used to handle workflow analyses where this ligand is involved\n",
    "    \n",
    "NGL viewer selection:\n",
    "http://nglviewer.org/ngl/api/manual/usage/selection-language.html    \n",
    "Prody selection:\n",
    "http://prody.csb.pitt.edu/manual/reference/atomic/select.html\n",
    "    \n",
    "#### Example:\n",
    "\n",
    "```python\n",
    "{\n",
    "    'name': 'Aspirin',\n",
    "    'accession': 'DB00945',\n",
    "    'chembl': 'CHEMBL25',\n",
    "    'ngl_selection': ':L',\n",
    "    'prody_selection': 'chain L'\n",
    "}\n",
    "```\n"
   ]
  },
  {
   "cell_type": "code",
   "execution_count": 6,
   "metadata": {},
   "outputs": [],
   "source": [
    "inputs['ligands'] = [{\n",
    "    'name': 'Aspirin',\n",
    "    'accession': 'DB00945',\n",
    "    'chembl': 'CHEMBL25',\n",
    "    'ngl_selection': ':L',\n",
    "    'prody_selection': 'chain L'\n",
    "}]"
   ]
  },
  {
   "cell_type": "markdown",
   "metadata": {},
   "source": [
    "[EXPERIMENTAL INPUT]\n",
    "\n",
    "Set customized default reprsenetations for topology regions (domains) which are interesting and thus must have an independent highlight system"
   ]
  },
  {
   "cell_type": "code",
   "execution_count": 7,
   "metadata": {},
   "outputs": [],
   "source": [
    "inputs['domains'] = []"
   ]
  },
  {
   "cell_type": "markdown",
   "metadata": {},
   "source": [
    "[EXPERIMENTAL INPUT]\n",
    "\n",
    "Set which are the interesting interactions to be analyzed<br />\n",
    "A bunch of interaction-specific analyses will be run for each interaction and displayed in the web client\n",
    "\n",
    "Interactions are defined by the 'agents' which are meant to interact pairwise. An 'agent' may be anything, even a group of unrelated molecules. The only condition is that agents must be defined by residues. The workflow will find out which residues of each agent are close enought to be considered as interface residues. These residues will be the ones considered in interface analyses<br />\n",
    "\n",
    "Interactions are uploaded to the database as part of the project metadata. They include the interaction name, agents name, residues selection of both whole agents and the residue selections of both agent interfaces<br />\n",
    "\n",
    "Each interaction has the following attributes:\n",
    "    - name: a string tag used to relate interaction analyses data with their corresponding residues.\n",
    "    In addition, the name is used to label the corresponding analyses in the web client\n",
    "    - agent_1: the name of the first agent in the interaction, which is used to label in the client\n",
    "    - selection_1: the prody selection of the first agent in the interaction\n",
    "    - agent_2: the name of the second agent in the interaction, which is used to label in the client\n",
    "    - selection_2: the prody selection of the second agent in the interaction\n",
    "    \n",
    "Prody selection:\n",
    "http://prody.csb.pitt.edu/manual/reference/atomic/select.html\n",
    "    \n",
    "#### Example:\n",
    "\n",
    "```python\n",
    "{\n",
    "    'name':'protein-ligand interaction',\n",
    "    'agent_1': 'protein',\n",
    "    'selection_1': 'not resname lig',\n",
    "    'agent_2': 'ligand',\n",
    "    'selection_2': 'resname lig',\n",
    "}\n",
    "```"
   ]
  },
  {
   "cell_type": "code",
   "execution_count": 8,
   "metadata": {},
   "outputs": [],
   "source": [
    "inputs['interactions'] = [\n",
    "    {\n",
    "        'name':'protein-ligand interaction',\n",
    "        'agent_1': 'protein',\n",
    "        'selection_1': 'not resname UNK',\n",
    "        'agent_2': 'ligand',\n",
    "        'selection_2': 'resname UNK',\n",
    "    }\n",
    "]"
   ]
  },
  {
   "cell_type": "markdown",
   "metadata": {},
   "source": [
    "Set which family does this trajectory belong to. For example, in the Bioexcel CV19 context, families are 'ACE2', 'Spike', 'RBD', etc."
   ]
  },
  {
   "cell_type": "code",
   "execution_count": 9,
   "metadata": {},
   "outputs": [],
   "source": [
    "inputs['unit'] = 'Spike'"
   ]
  },
  {
   "cell_type": "markdown",
   "metadata": {},
   "source": [
    "Set the membrane type as the name of membrane resiudes in the pdb file<br />\n",
    "Set the membrane as 'No' if there is no membrane<br />\n",
    "This is just a metadata value now and has no additional utilities"
   ]
  },
  {
   "cell_type": "code",
   "execution_count": 10,
   "metadata": {},
   "outputs": [],
   "source": [
    "inputs['membrane'] = 'No'"
   ]
  },
  {
   "cell_type": "markdown",
   "metadata": {},
   "source": [
    "Set the source pdb of the trajectory structure<br />\n",
    "Additional data from the pdb is harvested by the loader while uploading to the database<br />\n",
    "This data is displayed in the overview page"
   ]
  },
  {
   "cell_type": "code",
   "execution_count": 11,
   "metadata": {},
   "outputs": [],
   "source": [
    "inputs['pdbId'] = '6vsb'"
   ]
  },
  {
   "cell_type": "markdown",
   "metadata": {},
   "source": [
    "Write a breif description or title for this trajectory for the overview page<br />\n",
    "This name may be used by the client to search the trajectory in the database<br />\n",
    "The name is displayed in the overview page"
   ]
  },
  {
   "cell_type": "code",
   "execution_count": 12,
   "metadata": {},
   "outputs": [],
   "source": [
    "inputs['name'] = ('Trajectories of full-length SPIKE protein in the Closed state (replica 1)')"
   ]
  },
  {
   "cell_type": "markdown",
   "metadata": {},
   "source": [
    "Write additional comments<br />\n",
    "The description is displayed in the overview page"
   ]
  },
  {
   "cell_type": "code",
   "execution_count": 13,
   "metadata": {},
   "outputs": [],
   "source": [
    "inputs['description'] = ('All-atom MD simulation of full-length SPIKE protein in the Open state '\n",
    "               'bearing N165A and N234A mutations, protein + glycans only')"
   ]
  },
  {
   "cell_type": "markdown",
   "metadata": {},
   "source": [
    "Write author names<br />\n",
    "Authors are displayed in the overview page"
   ]
  },
  {
   "cell_type": "code",
   "execution_count": 14,
   "metadata": {},
   "outputs": [],
   "source": [
    "inputs['authors'] = ('Lorenzo Casalino, Zied Gaieb, Abigail C. Dommer, Aoife M. Harbison,'\n",
    "           ' Carl A. Fogarty, Emilia P. Barros, Bryn C. Taylor, Elisa Fadda,'\n",
    "           ' Rommie E. Amaro')"
   ]
  },
  {
   "cell_type": "markdown",
   "metadata": {},
   "source": [
    "Program (software) name which carried the trajectory and its version<br />\n",
    "Program and version are both displayed in the overview page"
   ]
  },
  {
   "cell_type": "code",
   "execution_count": 15,
   "metadata": {},
   "outputs": [],
   "source": [
    "inputs['program'] = 'NAMD'\n",
    "inputs['version'] = '2.14'"
   ]
  },
  {
   "cell_type": "markdown",
   "metadata": {},
   "source": [
    "License and link to the license web page<br />\n",
    "The license is displayed in the overview page. Under the license there is a 'More information' button. The link is used to redirect the user when the button is clicked"
   ]
  },
  {
   "cell_type": "code",
   "execution_count": 16,
   "metadata": {},
   "outputs": [],
   "source": [
    "inputs['license'] = (\"This trajectory dataset is released under a Creative Commons \"\n",
    "           \"Attribution 4.0 International Public License\")\n",
    "inputs['linkcense'] = \"https://creativecommons.org/licenses/by/4.0/\""
   ]
  },
  {
   "cell_type": "markdown",
   "metadata": {},
   "source": [
    "Citation<br />\n",
    "To set a citation use the following instructions:\n",
    "To add a line break type '(br)' inside the citation string\n",
    "To add superior text type '^' before each character"
   ]
  },
  {
   "cell_type": "code",
   "execution_count": 17,
   "metadata": {},
   "outputs": [],
   "source": [
    "inputs['citation'] = ('D. E. Shaw Research,(br)\"Molecular Dynamics Simulations Related to SARS-CoV-2,\"(br)'\n",
    "            'D. E. Shaw Research Technical Data, 2020.(br)http://www.deshawresearch.com/resources_sarscov2.html/')"
   ]
  },
  {
   "cell_type": "markdown",
   "metadata": {},
   "source": [
    "## Trajectory metadata\n",
    "These inputs may be automatically mined from the topology and trajectory files\n",
    "However they also may be forced here<br />\n",
    "<span style=\"color:red\">DANI: Todo mentira. El minado de metadata para estos valores no funciona casi nunca</span><br />\n",
    "<span style=\"color:red\">DANI: Dejé de mantenerlo hace tiempo y hay que poner todos los valores a mano</span>"
   ]
  },
  {
   "cell_type": "markdown",
   "metadata": {},
   "source": [
    "Length is an important value since it is used in many graph axes in the web client"
   ]
  },
  {
   "cell_type": "code",
   "execution_count": 18,
   "metadata": {},
   "outputs": [],
   "source": [
    "inputs['length'] = '411.7' # In nanoseconds (ns)"
   ]
  },
  {
   "cell_type": "markdown",
   "metadata": {},
   "source": [
    "The rest of values are displayed in the web client as trajectory metadata<br />\n",
    "These values do not affect other outcomes"
   ]
  },
  {
   "cell_type": "code",
   "execution_count": 19,
   "metadata": {},
   "outputs": [],
   "source": [
    "inputs['frequency'] = '100' # In picoseconds (ps)\n",
    "inputs['temp'] = 310 # In Kelvin (K)\n",
    "inputs['ensemble'] = 'NPT'\n",
    "inputs['timestep'] = '2' # In fs (fs/step)\n",
    "inputs['pcoupling'] = 'Isotropic'\n",
    "inputs['ff'] = 'CHARMM36 All-atom additive'\n",
    "inputs['wat'] = 'TIP3P'\n",
    "inputs['boxtype'] = 'Triclinic'"
   ]
  },
  {
   "cell_type": "markdown",
   "metadata": {},
   "source": [
    "## Export\n",
    "\n",
    "Finally export everything to json format"
   ]
  },
  {
   "cell_type": "code",
   "execution_count": 20,
   "metadata": {},
   "outputs": [],
   "source": [
    "import json\n",
    "\n",
    "# Export it to json\n",
    "inputs_filename = 'inputs.json'\n",
    "with open(inputs_filename, 'w') as file:\n",
    "    json.dump(inputs, file)"
   ]
  },
  {
   "cell_type": "code",
   "execution_count": null,
   "metadata": {},
   "outputs": [],
   "source": []
  }
 ],
 "metadata": {
  "kernelspec": {
   "display_name": "Python 3",
   "language": "python",
   "name": "python3"
  },
  "language_info": {
   "codemirror_mode": {
    "name": "ipython",
    "version": 3
   },
   "file_extension": ".py",
   "mimetype": "text/x-python",
   "name": "python",
   "nbconvert_exporter": "python",
   "pygments_lexer": "ipython3",
   "version": "3.7.4"
  }
 },
 "nbformat": 4,
 "nbformat_minor": 4
}
